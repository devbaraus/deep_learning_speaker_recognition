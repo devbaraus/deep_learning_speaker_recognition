{
 "cells": [
  {
   "cell_type": "code",
   "execution_count": 1,
   "id": "anticipated-trick",
   "metadata": {},
   "outputs": [],
   "source": [
    "# %% Package imports\n",
    "from sklearn import svm\n",
    "from sklearn.ensemble import RandomForestClassifier\n",
    "from sklearn.metrics import classification_report, f1_score, accuracy_score\n",
    "from sklearn.utils import shuffle\n",
    "from sklearn.model_selection import train_test_split, GridSearchCV, KFold, cross_val_score\n",
    "from deep_audio import Audio, Visualization, Directory, Model, JSON\n",
    "import numpy as np\n",
    "from joblib import Parallel, delayed\n",
    "import multiprocessing\n",
    "import joblib"
   ]
  },
  {
   "cell_type": "code",
   "execution_count": 2,
   "id": "specified-despite",
   "metadata": {},
   "outputs": [],
   "source": [
    "# %% Load dataset\n",
    "sampling_rate = 24000\n",
    "\n",
    "method_algo = 'mfcc'\n",
    "\n",
    "x, y, mapping = Directory.load_json_data(f'processed/{method_algo}/{method_algo}_{sampling_rate}.json',\n",
    "                                         inputs_fieldname=method_algo)"
   ]
  },
  {
   "cell_type": "code",
   "execution_count": 3,
   "id": "aggressive-computer",
   "metadata": {},
   "outputs": [],
   "source": [
    "random_state = 42\n",
    "x_holder = []\n",
    "\n",
    "for row in x:\n",
    "    x_holder.append(row.flatten())\n",
    "\n",
    "x = np.array(x_holder)\n",
    "\n",
    "# n = len(x)\n",
    "n = 2000\n",
    "\n",
    "x = x[:n]\n",
    "y = y[:n]\n",
    "\n",
    "x_train, x_test, y_train, y_test = train_test_split(x, y)"
   ]
  },
  {
   "cell_type": "code",
   "execution_count": null,
   "id": "registered-queue",
   "metadata": {},
   "outputs": [
    {
     "name": "stdout",
     "output_type": "stream",
     "text": [
      "Fitting 5 folds for each of 43200 candidates, totalling 216000 fits\n"
     ]
    }
   ],
   "source": [
    "# Number of trees in random forest\n",
    "n_estimators = list(range(200, 2001, 100))\n",
    "# Number of features to consider at every split\n",
    "max_features = ['auto', 'sqrt']\n",
    "# Maximum number of levels in tree\n",
    "max_depth = list(range(10,111,10))\n",
    "max_depth.append(None)\n",
    "# Minimum number of samples required to split a node\n",
    "min_samples_split = [2, 5, 10]\n",
    "# Minimum number of samples required at each leaf node\n",
    "min_samples_leaf = [1, 2, 4]\n",
    "# Method of selecting samples for training each tree\n",
    "bootstrap = [True, False]\n",
    "# Create the random grid\n",
    "param_grid = {'n_estimators': n_estimators,\n",
    "                'max_features': max_features,\n",
    "                'max_depth': max_depth,\n",
    "                'min_samples_split': min_samples_split,\n",
    "                'min_samples_leaf': min_samples_leaf,\n",
    "                'bootstrap': bootstrap}\n",
    "\n",
    "# param_grid = {'n_estimators': [100],\n",
    "# 'max_features': max_features,\n",
    "# 'max_depth': [10],\n",
    "# 'min_samples_split': [2],\n",
    "# 'min_samples_leaf': [1],\n",
    "# 'bootstrap': [True]}\n",
    "\n",
    "model = GridSearchCV(RandomForestClassifier(), param_grid, cv=5, refit=True, verbose=3, n_jobs=-1)\n",
    "\n",
    "model.fit(x_train, y_train)\n",
    "\n",
    "# # print best parameter after tuning\n",
    "best_params = model.best_params_\n",
    "print(best_params)\n",
    "\n",
    "# TESTA ACCURÁCIAS\n",
    "\n",
    "score_test = model.score(x_test, y_test)\n",
    "\n",
    "score_train = model.score(x_train, y_train)\n",
    "\n",
    "y_hat = model.predict(x_test)\n",
    "\n",
    "# SALVA MODELO\n",
    "filename = f'models/randomforest/{method_algo}_{sampling_rate}_{best_params[\"n_estimators\"]}_{best_params[\"max_depth\"]}/acc{score_test}_seed{random_state}.sav'\n",
    "\n",
    "Directory.create_directory(filename, file=True)\n",
    "\n",
    "joblib.dump(model, filename)\n",
    "\n",
    "# SALVA ACURÁCIAS E PARAMETROS\n",
    "dump_info = {\n",
    "    'method': 'Grid Search Random Forest',\n",
    "    'seed': random_state,\n",
    "    'feature_method': method_algo,\n",
    "    'sample_rate': sampling_rate,\n",
    "    'train_test': [len(x_train), len(x_test)],\n",
    "    'score_train': score_train,\n",
    "    'score_test': score_test,\n",
    "    'f1_micro': f1_score(y_hat, y_test, average='micro'),\n",
    "    'f1_macro': f1_score(y_hat, y_test, average='macro'),\n",
    "    'model_file': f'acc{score_test}_seed{random_state}.sav',\n",
    "    'params': model.best_params_,\n",
    "    'cv_results': model.cv_results_\n",
    "}"
   ]
  },
  {
   "cell_type": "code",
   "execution_count": null,
   "id": "attached-congo",
   "metadata": {
    "pycharm": {
     "name": "#%%\n"
    }
   },
   "outputs": [],
   "source": [
    "JSON.create_json_file(f'models/randomforest/{method_algo}_{sampling_rate}_{best_params[\"n_estimators\"]}_{best_params[\"max_depth\"]}/info.json', dump_info)"
   ]
  },
  {
   "cell_type": "code",
   "execution_count": null,
   "id": "f1b4b988",
   "metadata": {},
   "outputs": [],
   "source": []
  }
 ],
 "metadata": {
  "kernelspec": {
   "display_name": "Python 3",
   "language": "python",
   "name": "python3"
  },
  "language_info": {
   "codemirror_mode": {
    "name": "ipython",
    "version": 3
   },
   "file_extension": ".py",
   "mimetype": "text/x-python",
   "name": "python",
   "nbconvert_exporter": "python",
   "pygments_lexer": "ipython3",
   "version": "3.8.5"
  },
  "metadata": {
   "interpreter": {
    "hash": "63fd5069d213b44bf678585dea6b12cceca9941eaf7f819626cde1f2670de90d"
   }
  }
 },
 "nbformat": 4,
 "nbformat_minor": 5
}
