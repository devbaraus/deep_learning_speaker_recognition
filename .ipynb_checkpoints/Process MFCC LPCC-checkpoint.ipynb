{
 "cells": [
  {
   "cell_type": "code",
   "execution_count": null,
   "id": "looking-proportion",
   "metadata": {},
   "outputs": [],
   "source": [
    "from os import walk\n",
    "from joblib import Parallel, delayed\n",
    "import librosa\n",
    "import numpy as np\n",
    "import multiprocessing\n",
    "import json\n",
    "from deep_audio import Directory, Audio, JSON"
   ]
  },
  {
   "cell_type": "code",
   "execution_count": null,
   "id": "funky-giant",
   "metadata": {},
   "outputs": [],
   "source": [
    "num_cores = multiprocessing.cpu_count()\n",
    "\n",
    "sampling_rate = 22050\n",
    "\n",
    "path = f'audios/{sampling_rate}/'\n",
    "\n",
    "f = Directory.filenames(path)\n",
    "\n",
    "data = {\n",
    "    \"mapping\": [],\n",
    "    \"data\": [],\n",
    "    \"labels\": []\n",
    "}"
   ]
  },
  {
   "cell_type": "code",
   "execution_count": null,
   "id": "enhanced-chambers",
   "metadata": {},
   "outputs": [],
   "source": [
    "def process_directory(dir, index):\n",
    "    signal, sr = Audio.read(f'{path}/{dir}')\n",
    "\n",
    "    signal = np.array(signal)\n",
    "\n",
    "    signal = signal[:len(signal) - len(signal) % (sr * 5)]\n",
    "\n",
    "    segments = len(signal) // (sr * 5)\n",
    "\n",
    "    m = {\n",
    "        \"data\": [],\n",
    "        \"labels\": [index] * segments\n",
    "    }\n",
    "\n",
    "    for i in range(segments):\n",
    "        start_sample = sr * i * 5\n",
    "        finish_sample = start_sample + (sr * 5)\n",
    "        sample = signal[start_sample:finish_sample]\n",
    "\n",
    "        mfcc = mfcc = librosa.feature.mfcc(sample, sr=sr, n_mfcc=13, hop_length=512, n_fft=2048, lifter=22)\n",
    "        lpcc = Audio.lpcc(sample)\n",
    "\n",
    "        data = np.concatenate((mfcc, lpcc), axis=0)\n",
    "\n",
    "        m['data'].append(data.tolist())\n",
    "\n",
    "    print(f'{dir} -> segments: {segments}')\n",
    "    return m"
   ]
  },
  {
   "cell_type": "code",
   "execution_count": null,
   "id": "heavy-research",
   "metadata": {},
   "outputs": [],
   "source": [
    "def object_data_to_json(m):\n",
    "    data['mapping'] = [file.replace('.wav', '') for file in f]\n",
    "\n",
    "    for i in m:\n",
    "        data['data'].extend(i['data'])\n",
    "        data['labels'].extend(i['labels'])\n",
    "\n",
    "    JSON.create_json_file(f'processed/combined/data_{sampling_rate}.json', data)"
   ]
  },
  {
   "cell_type": "code",
   "execution_count": null,
   "id": "interim-probe",
   "metadata": {},
   "outputs": [],
   "source": []
  },
  {
   "cell_type": "code",
   "execution_count": null,
   "id": "beautiful-camera",
   "metadata": {},
   "outputs": [],
   "source": []
  },
  {
   "cell_type": "code",
   "execution_count": null,
   "id": "weighted-right",
   "metadata": {},
   "outputs": [],
   "source": []
  }
 ],
 "metadata": {
  "kernelspec": {
   "display_name": "Python 3",
   "language": "python",
   "name": "python3"
  },
  "language_info": {
   "codemirror_mode": {
    "name": "ipython",
    "version": 3
   },
   "file_extension": ".py",
   "mimetype": "text/x-python",
   "name": "python",
   "nbconvert_exporter": "python",
   "pygments_lexer": "ipython3",
   "version": "3.8.5"
  }
 },
 "nbformat": 4,
 "nbformat_minor": 5
}
