{
 "cells": [
  {
   "cell_type": "code",
   "execution_count": 1,
   "id": "anticipated-trick",
   "metadata": {},
   "outputs": [],
   "source": [
    "# %% Package imports\n",
    "from sklearn import svm\n",
    "from sklearn.ensemble import RandomForestClassifier\n",
    "from sklearn.metrics import classification_report, f1_score, accuracy_score\n",
    "from sklearn.utils import shuffle\n",
    "from sklearn.model_selection import train_test_split, GridSearchCV, KFold, cross_val_score\n",
    "from deep_audio import Audio, Visualization, Directory, Model, JSON\n",
    "import numpy as np\n",
    "from joblib import Parallel, delayed\n",
    "import multiprocessing\n",
    "import joblib"
   ]
  },
  {
   "cell_type": "code",
   "execution_count": 2,
   "id": "specified-despite",
   "metadata": {},
   "outputs": [],
   "source": [
    "# %% Load dataset\n",
    "sampling_rate = 24000\n",
    "\n",
    "method_algo = 'mfcc'\n",
    "\n",
    "x, y, mapping = Directory.load_json_data(f'processed/{method_algo}/{method_algo}_{sampling_rate}.json',\n",
    "                                         inputs_fieldname=method_algo)"
   ]
  },
  {
   "cell_type": "code",
   "execution_count": 3,
   "id": "aggressive-computer",
   "metadata": {},
   "outputs": [],
   "source": [
    "random_state = 42\n",
    "x_holder = []\n",
    "\n",
    "for row in x:\n",
    "    x_holder.append(row.flatten())\n",
    "\n",
    "x = np.array(x_holder)\n",
    "\n",
    "# n = len(x)\n",
    "n = 2000\n",
    "\n",
    "x = x[:n]\n",
    "y = y[:n]\n",
    "\n",
    "x_train, x_test, y_train, y_test = train_test_split(x, y)"
   ]
  },
  {
   "cell_type": "code",
   "execution_count": null,
   "id": "registered-queue",
   "metadata": {},
   "outputs": [
    {
     "name": "stdout",
     "output_type": "stream",
     "text": [
      "Fitting 5 folds for each of 30 candidates, totalling 150 fits\n"
     ]
    }
   ],
   "source": [
    "param_grid = {\n",
    "    'C': [0.1, 1, 10, 100, 1000],\n",
    "    # 'gamma': [1, 0.1, 0.01, 0.001, 0.0001],\n",
    "    'kernel': ['linear', 'rbf', 'poly'],\n",
    "    'decision_function_shape': ['ovo', 'ovr']\n",
    "}\n",
    "\n",
    "# param_grid = {\n",
    "#     'C': [10],\n",
    "#     'kernel': ['linear'],\n",
    "#     'decision_function_shape': ['ovo']\n",
    "# }\n",
    "\n",
    "model = GridSearchCV(svm.SVC(), param_grid, cv=5, refit=True, verbose=2, n_jobs=8)\n",
    "\n",
    "model.fit(x_train, y_train)\n",
    "\n",
    "# # print best parameter after tuning\n",
    "best_params = model.best_params_\n",
    "print(best_params)\n",
    "\n",
    "# TESTA ACCURÁCIAS\n",
    "\n",
    "score_test = model.score(x_test, y_test)\n",
    "\n",
    "score_train = model.score(x_train, y_train)\n",
    "\n",
    "y_hat = model.predict(x_test)\n",
    "\n",
    "# SALVA MODELO\n",
    "filename = f'models/gridsvm/{method_algo}_{sampling_rate}_{best_params[\"kernel\"]}_{best_params[\"decision_function_shape\"]}/acc{score_test}_seed{random_state}.sav'\n",
    "\n",
    "Directory.create_directory(filename, file=True)\n",
    "\n",
    "joblib.dump(model, filename)\n",
    "\n",
    "# SALVA ACURÁCIAS E PARAMETROS\n",
    "dump_info = {\n",
    "    'method': 'Grid Search Support Vector Machines',\n",
    "    'seed': random_state,\n",
    "    'feature_method': method_algo,\n",
    "    'sample_rate': sampling_rate,\n",
    "    'train_test': [len(x_train), len(x_test)],\n",
    "    'score_train': score_train,\n",
    "    'score_test': score_test,\n",
    "    'f1_micro': f1_score(y_hat, y_test, average='micro'),\n",
    "    'f1_macro': f1_score(y_hat, y_test, average='macro'),\n",
    "    'model_file': f'acc{score_test}_seed{random_state}.sav',\n",
    "    'params': model.best_params_,\n",
    "    'cv_results': model.cv_results_\n",
    "}"
   ]
  },
  {
   "cell_type": "code",
   "execution_count": null,
   "id": "attached-congo",
   "metadata": {
    "pycharm": {
     "name": "#%%\n"
    }
   },
   "outputs": [],
   "source": [
    "JSON.create_json_file(f'models/gridsvm/{method_algo}_{sampling_rate}_{best_params[\"kernel\"]}_{best_params[\"decision_function_shape\"]}/info.json', dump_info)"
   ]
  }
 ],
 "metadata": {
  "kernelspec": {
   "display_name": "Python 3",
   "language": "python",
   "name": "python3"
  },
  "language_info": {
   "codemirror_mode": {
    "name": "ipython",
    "version": 3
   },
   "file_extension": ".py",
   "mimetype": "text/x-python",
   "name": "python",
   "nbconvert_exporter": "python",
   "pygments_lexer": "ipython3",
   "version": "3.8.5"
  },
  "metadata": {
   "interpreter": {
    "hash": "63fd5069d213b44bf678585dea6b12cceca9941eaf7f819626cde1f2670de90d"
   }
  }
 },
 "nbformat": 4,
 "nbformat_minor": 5
}
