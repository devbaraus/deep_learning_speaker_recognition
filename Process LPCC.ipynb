{
 "cells": [
  {
   "cell_type": "code",
   "execution_count": 8,
   "id": "sticky-twins",
   "metadata": {},
   "outputs": [],
   "source": [
    "from os import walk\n",
    "from joblib import Parallel, delayed\n",
    "import librosa\n",
    "import numpy as np\n",
    "import multiprocessing\n",
    "import json\n",
    "from deep_audio import Directory, Audio, JSON"
   ]
  },
  {
   "cell_type": "code",
   "execution_count": 9,
   "id": "basic-small",
   "metadata": {},
   "outputs": [],
   "source": [
    "num_cores = multiprocessing.cpu_count()\n",
    "\n",
    "sampling_rate = 22050\n",
    "\n",
    "path = f'audios/{sampling_rate}'\n",
    "\n",
    "f = Directory.filenames(path)\n",
    "\n",
    "data = {\n",
    "    \"mapping\": [],\n",
    "    \"lpcc\": [],\n",
    "    \"labels\": []\n",
    "}"
   ]
  },
  {
   "cell_type": "code",
   "execution_count": 10,
   "id": "southeast-cincinnati",
   "metadata": {},
   "outputs": [],
   "source": [
    "def process_directory(dir, index):\n",
    "    signal, sr = Audio.read(f'{path}/{dir}', sr=sampling_rate, normalize=False)\n",
    "\n",
    "    signal = np.array(signal)\n",
    "\n",
    "    signal = signal[:len(signal) - len(signal) % (sr * 5)]\n",
    "\n",
    "    segments = len(signal) // (sr * 5)\n",
    "\n",
    "    m = {\n",
    "        \"lpc\": [],\n",
    "        \"labels\": [index] * segments\n",
    "    }\n",
    "\n",
    "    for i in range(segments):\n",
    "        start_sample = sr * i * 5\n",
    "        finish_sample = start_sample + (sr * 5)\n",
    "\n",
    "        sample = signal[start_sample:finish_sample]\n",
    "\n",
    "        lpcc = Audio.lpcc(sample, rate=sr)\n",
    "\n",
    "        lpcc = lpcc.T\n",
    "\n",
    "        m['lpcc'].append(lpcc.tolist())\n",
    "\n",
    "    print(f'{dir} -> segments: {segments}')\n",
    "    return m"
   ]
  },
  {
   "cell_type": "code",
   "execution_count": 11,
   "id": "stupid-aerospace",
   "metadata": {},
   "outputs": [],
   "source": [
    "def object_lpcc_to_json(m):\n",
    "    data['mapping'] = [file.replace('.wav', '') for file in f]\n",
    "\n",
    "    for i in m:\n",
    "        data['lpcc'].extend(i['lpcc'])\n",
    "        data['labels'].extend(i['labels'])\n",
    "\n",
    "    JSON.create_json_file(f'processed/lpcc/lpcc_{sampling_rate}.json', data)\n"
   ]
  },
  {
   "cell_type": "code",
   "execution_count": 12,
   "id": "concerned-share",
   "metadata": {},
   "outputs": [
    {
     "output_type": "stream",
     "name": "stdout",
     "text": [
      "[Parallel(n_jobs=8)]: Using backend LokyBackend with 8 concurrent workers.\n",
      "[Parallel(n_jobs=8)]: Done   1 tasks      | elapsed:   36.6s\n",
      "[Parallel(n_jobs=8)]: Done   2 tasks      | elapsed:   48.8s\n",
      "[Parallel(n_jobs=8)]: Done   3 tasks      | elapsed:   51.6s\n",
      "[Parallel(n_jobs=8)]: Done   4 tasks      | elapsed:   54.7s\n",
      "[Parallel(n_jobs=8)]: Done   5 tasks      | elapsed:   54.9s\n",
      "[Parallel(n_jobs=8)]: Done   6 tasks      | elapsed:   57.9s\n",
      "[Parallel(n_jobs=8)]: Done   7 tasks      | elapsed:  1.0min\n",
      "[Parallel(n_jobs=8)]: Done   8 tasks      | elapsed:  1.3min\n",
      "[Parallel(n_jobs=8)]: Done   9 tasks      | elapsed:  1.5min\n",
      "[Parallel(n_jobs=8)]: Done  10 tasks      | elapsed:  1.6min\n",
      "[Parallel(n_jobs=8)]: Done  11 tasks      | elapsed:  1.6min\n",
      "[Parallel(n_jobs=8)]: Done  12 tasks      | elapsed:  1.9min\n",
      "[Parallel(n_jobs=8)]: Done  13 tasks      | elapsed:  1.9min\n",
      "[Parallel(n_jobs=8)]: Done  14 tasks      | elapsed:  2.0min\n",
      "[Parallel(n_jobs=8)]: Done  15 tasks      | elapsed:  2.0min\n",
      "[Parallel(n_jobs=8)]: Done  16 tasks      | elapsed:  2.2min\n",
      "[Parallel(n_jobs=8)]: Done  17 tasks      | elapsed:  2.5min\n",
      "[Parallel(n_jobs=8)]: Done  18 tasks      | elapsed:  2.6min\n",
      "[Parallel(n_jobs=8)]: Done  19 tasks      | elapsed:  2.6min\n",
      "[Parallel(n_jobs=8)]: Done  20 tasks      | elapsed:  2.8min\n",
      "[Parallel(n_jobs=8)]: Done  21 tasks      | elapsed:  2.9min\n",
      "[Parallel(n_jobs=8)]: Done  22 tasks      | elapsed:  2.9min\n",
      "[Parallel(n_jobs=8)]: Done  23 tasks      | elapsed:  2.9min\n",
      "[Parallel(n_jobs=8)]: Done  24 tasks      | elapsed:  3.0min\n",
      "[Parallel(n_jobs=8)]: Done  25 tasks      | elapsed:  3.3min\n",
      "[Parallel(n_jobs=8)]: Done  26 tasks      | elapsed:  3.3min\n",
      "[Parallel(n_jobs=8)]: Done  27 tasks      | elapsed:  3.3min\n",
      "[Parallel(n_jobs=8)]: Done  28 tasks      | elapsed:  3.6min\n",
      "[Parallel(n_jobs=8)]: Done  29 tasks      | elapsed:  3.7min\n",
      "[Parallel(n_jobs=8)]: Done  30 tasks      | elapsed:  3.7min\n",
      "[Parallel(n_jobs=8)]: Done  31 tasks      | elapsed:  3.8min\n",
      "[Parallel(n_jobs=8)]: Done  32 tasks      | elapsed:  3.9min\n",
      "[Parallel(n_jobs=8)]: Done  33 tasks      | elapsed:  4.1min\n",
      "[Parallel(n_jobs=8)]: Done  34 tasks      | elapsed:  4.4min\n",
      "[Parallel(n_jobs=8)]: Done  35 tasks      | elapsed:  4.4min\n",
      "[Parallel(n_jobs=8)]: Done  36 tasks      | elapsed:  4.7min\n",
      "[Parallel(n_jobs=8)]: Done  37 tasks      | elapsed:  4.7min\n",
      "[Parallel(n_jobs=8)]: Done  38 tasks      | elapsed:  4.7min\n",
      "[Parallel(n_jobs=8)]: Done  39 tasks      | elapsed:  4.8min\n",
      "[Parallel(n_jobs=8)]: Done  40 tasks      | elapsed:  4.8min\n",
      "[Parallel(n_jobs=8)]: Done  41 tasks      | elapsed:  5.0min\n",
      "[Parallel(n_jobs=8)]: Done  42 tasks      | elapsed:  5.2min\n",
      "[Parallel(n_jobs=8)]: Done  43 tasks      | elapsed:  5.3min\n",
      "[Parallel(n_jobs=8)]: Done  44 tasks      | elapsed:  5.7min\n",
      "[Parallel(n_jobs=8)]: Done  45 tasks      | elapsed:  5.7min\n",
      "[Parallel(n_jobs=8)]: Done  46 tasks      | elapsed:  5.9min\n",
      "[Parallel(n_jobs=8)]: Done  47 tasks      | elapsed:  5.9min\n",
      "[Parallel(n_jobs=8)]: Done  48 tasks      | elapsed:  5.9min\n",
      "[Parallel(n_jobs=8)]: Done  49 tasks      | elapsed:  6.0min\n",
      "[Parallel(n_jobs=8)]: Done  50 tasks      | elapsed:  6.3min\n",
      "[Parallel(n_jobs=8)]: Done  51 tasks      | elapsed:  6.3min\n",
      "[Parallel(n_jobs=8)]: Done  52 tasks      | elapsed:  6.5min\n",
      "[Parallel(n_jobs=8)]: Done  53 tasks      | elapsed:  6.5min\n",
      "[Parallel(n_jobs=8)]: Done  54 tasks      | elapsed:  6.7min\n",
      "[Parallel(n_jobs=8)]: Done  55 tasks      | elapsed:  6.9min\n",
      "[Parallel(n_jobs=8)]: Done  56 tasks      | elapsed:  6.9min\n",
      "[Parallel(n_jobs=8)]: Done  57 tasks      | elapsed:  7.1min\n",
      "[Parallel(n_jobs=8)]: Done  58 tasks      | elapsed:  7.1min\n",
      "[Parallel(n_jobs=8)]: Done  59 tasks      | elapsed:  7.2min\n",
      "[Parallel(n_jobs=8)]: Done  60 tasks      | elapsed:  7.4min\n",
      "[Parallel(n_jobs=8)]: Done  61 tasks      | elapsed:  7.5min\n",
      "[Parallel(n_jobs=8)]: Done  62 tasks      | elapsed:  7.6min\n",
      "[Parallel(n_jobs=8)]: Done  63 tasks      | elapsed:  7.6min\n",
      "[Parallel(n_jobs=8)]: Done  64 tasks      | elapsed:  7.9min\n",
      "[Parallel(n_jobs=8)]: Done  65 tasks      | elapsed:  7.9min\n",
      "[Parallel(n_jobs=8)]: Done  66 tasks      | elapsed:  7.9min\n",
      "[Parallel(n_jobs=8)]: Done  67 tasks      | elapsed:  8.1min\n",
      "[Parallel(n_jobs=8)]: Done  68 tasks      | elapsed:  8.3min\n",
      "[Parallel(n_jobs=8)]: Done  69 tasks      | elapsed:  8.3min\n",
      "[Parallel(n_jobs=8)]: Done  70 tasks      | elapsed:  8.4min\n",
      "[Parallel(n_jobs=8)]: Done  71 tasks      | elapsed:  8.6min\n",
      "[Parallel(n_jobs=8)]: Done  72 tasks      | elapsed:  8.6min\n",
      "[Parallel(n_jobs=8)]: Done  73 tasks      | elapsed:  8.7min\n",
      "[Parallel(n_jobs=8)]: Done  74 tasks      | elapsed:  8.8min\n",
      "[Parallel(n_jobs=8)]: Done  75 tasks      | elapsed:  9.1min\n",
      "[Parallel(n_jobs=8)]: Done  76 tasks      | elapsed:  9.3min\n",
      "[Parallel(n_jobs=8)]: Done  77 tasks      | elapsed:  9.3min\n",
      "[Parallel(n_jobs=8)]: Done  78 tasks      | elapsed:  9.4min\n",
      "[Parallel(n_jobs=8)]: Done  79 tasks      | elapsed:  9.4min\n",
      "[Parallel(n_jobs=8)]: Done  80 tasks      | elapsed:  9.4min\n",
      "[Parallel(n_jobs=8)]: Done  81 tasks      | elapsed:  9.5min\n",
      "[Parallel(n_jobs=8)]: Done  82 tasks      | elapsed:  9.6min\n",
      "[Parallel(n_jobs=8)]: Done  83 tasks      | elapsed:  9.6min\n",
      "[Parallel(n_jobs=8)]: Done  84 tasks      | elapsed: 10.0min\n",
      "[Parallel(n_jobs=8)]: Done  85 tasks      | elapsed: 10.2min\n",
      "[Parallel(n_jobs=8)]: Done  86 tasks      | elapsed: 10.2min\n",
      "[Parallel(n_jobs=8)]: Done  87 tasks      | elapsed: 10.3min\n",
      "[Parallel(n_jobs=8)]: Done  88 tasks      | elapsed: 10.5min\n",
      "[Parallel(n_jobs=8)]: Done  89 tasks      | elapsed: 10.5min\n",
      "[Parallel(n_jobs=8)]: Done  90 tasks      | elapsed: 10.6min\n",
      "[Parallel(n_jobs=8)]: Done  91 tasks      | elapsed: 10.9min\n",
      "[Parallel(n_jobs=8)]: Done  92 tasks      | elapsed: 10.9min\n",
      "[Parallel(n_jobs=8)]: Done  93 tasks      | elapsed: 11.1min\n",
      "[Parallel(n_jobs=8)]: Done  94 tasks      | elapsed: 11.2min\n",
      "[Parallel(n_jobs=8)]: Done  96 out of 109 | elapsed: 11.3min remaining:  1.5min\n",
      "[Parallel(n_jobs=8)]: Done  98 out of 109 | elapsed: 11.6min remaining:  1.3min\n",
      "[Parallel(n_jobs=8)]: Done 100 out of 109 | elapsed: 11.7min remaining:  1.1min\n",
      "[Parallel(n_jobs=8)]: Done 102 out of 109 | elapsed: 12.0min remaining:   49.2s\n",
      "[Parallel(n_jobs=8)]: Done 104 out of 109 | elapsed: 12.2min remaining:   35.1s\n",
      "[Parallel(n_jobs=8)]: Done 106 out of 109 | elapsed: 12.4min remaining:   21.0s\n",
      "[Parallel(n_jobs=8)]: Done 109 out of 109 | elapsed: 12.6min finished\n"
     ]
    }
   ],
   "source": [
    "if __name__ == '__main__':\n",
    "    m = Parallel(n_jobs=num_cores, verbose=len(f), temp_folder='./tmp/')(\n",
    "        delayed(process_directory)(i, j) for j, i in enumerate(f) if i is not None)"
   ]
  },
  {
   "cell_type": "code",
   "execution_count": 13,
   "id": "amended-google",
   "metadata": {},
   "outputs": [],
   "source": [
    "    object_lpcc_to_json(m)"
   ]
  },
  {
   "cell_type": "code",
   "execution_count": 14,
   "metadata": {},
   "outputs": [
    {
     "output_type": "execute_result",
     "data": {
      "text/plain": [
       "17712"
      ]
     },
     "metadata": {},
     "execution_count": 14
    }
   ],
   "source": [
    "data['labels']"
   ]
  }
 ],
 "metadata": {
  "kernelspec": {
   "display_name": "Python 3",
   "language": "python",
   "name": "python3"
  },
  "language_info": {
   "codemirror_mode": {
    "name": "ipython",
    "version": 3
   },
   "file_extension": ".py",
   "mimetype": "text/x-python",
   "name": "python",
   "nbconvert_exporter": "python",
   "pygments_lexer": "ipython3",
   "version": "3.8.6-final"
  }
 },
 "nbformat": 4,
 "nbformat_minor": 5
}