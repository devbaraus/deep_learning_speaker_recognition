{
 "cells": [
  {
   "cell_type": "code",
   "execution_count": 1,
   "id": "anticipated-trick",
   "metadata": {},
   "outputs": [],
   "source": [
    "# %% Package imports\n",
    "from sklearn import svm\n",
    "from sklearn.ensemble import RandomForestClassifier\n",
    "from sklearn.metrics import classification_report\n",
    "from sklearn.utils import shuffle\n",
    "from sklearn.model_selection import train_test_split, GridSearchCV, KFold\n",
    "from deep_audio import Audio, Visualization, Directory, Model, JSON\n",
    "import numpy as np\n",
    "import joblib"
   ]
  },
  {
   "cell_type": "code",
   "execution_count": 2,
   "id": "specified-despite",
   "metadata": {},
   "outputs": [],
   "source": [
    "# %% Load dataset\n",
    "\n",
    "sampling_rate = 16000\n",
    "\n",
    "method_algo = 'mfcc'\n",
    "\n",
    "x, y, mapping = Directory.load_json_data(f'processed/{method_algo}/{method_algo}_{sampling_rate}.json',\n",
    "                                         inputs_fieldname=method_algo)"
   ]
  },
  {
   "cell_type": "code",
   "execution_count": 3,
   "id": "aggressive-computer",
   "metadata": {},
   "outputs": [],
   "source": [
    "# %% preprocessing\n",
    "x_holder = []\n",
    "\n",
    "for row in x:\n",
    "    x_holder.append(row.flatten())\n",
    "\n",
    "x = np.array(x_holder)\n",
    "\n",
    "\n",
    "x, y = shuffle(x, y)\n",
    "\n",
    "n = 3000\n",
    "\n",
    "x = x[:n]\n",
    "y = y[:n]\n",
    "\n",
    "\n",
    "random_state = 42\n",
    "\n",
    "# kf = KFold(n_splits=5, shuffle=True, random_state=42)\n",
    "# kf.get_n_splits(x)\n",
    "\n",
    "x_train, x_val, y_train, y_val = train_test_split(x, y, train_size=0.8, random_state=random_state, stratify=y)"
   ]
  },
  {
   "cell_type": "code",
   "execution_count": 4,
   "id": "rotary-google",
   "metadata": {},
   "outputs": [],
   "source": [
    "data = {\n",
    "    \"mapping\": mapping.tolist(),\n",
    "    \"labels\": y_val.tolist(),\n",
    "    \"mfcc\": x_val.tolist(),\n",
    "}\n",
    "\n",
    "JSON.create_json_file(f'datatest/svm/{method_algo}_{sampling_rate}/datatest_{random_state}_{x.shape[0]}.json', data)"
   ]
  },
  {
   "cell_type": "code",
   "execution_count": 5,
   "id": "technical-breakdown",
   "metadata": {},
   "outputs": [
    {
     "name": "stdout",
     "output_type": "stream",
     "text": [
      "Fitting 5 folds for each of 20 candidates, totalling 100 fits\n"
     ]
    },
    {
     "data": {
      "text/plain": [
       "GridSearchCV(estimator=SVC(), n_jobs=8,\n",
       "             param_grid={'C': [0.1, 1, 10, 100, 1000],\n",
       "                         'decision_function_shape': ['ovo', 'ovr'],\n",
       "                         'kernel': ['linear', 'rbf']},\n",
       "             verbose=3)"
      ]
     },
     "execution_count": 5,
     "metadata": {},
     "output_type": "execute_result"
    }
   ],
   "source": [
    "# for train_index, test_index in kf.split(x):\n",
    "#     x_train, x_val = x[train_index], x[test_index]\n",
    "#     y_train, y_val = y[train_index], y[test_index]\n",
    "\n",
    "# %% Split data\n",
    "\n",
    "param_grid = {\n",
    "    'C': [0.1, 1, 10, 100, 1000],\n",
    "#     'gamma': [1, 0.1, 0.01, 0.001, 0.0001],\n",
    "    'kernel': ['linear', 'rbf'],\n",
    "    'decision_function_shape': ['ovo', 'ovr']\n",
    "}\n",
    "\n",
    "# %% training\n",
    "\n",
    "# model = RandomForestClassifier()\n",
    "# model = svm.SVC(C=10, kernel='rbf')\n",
    "\n",
    "model = GridSearchCV(svm.SVC(), param_grid, refit=True, verbose=3, n_jobs=8)\n",
    "\n",
    "model.fit(x_train, y_train)"
   ]
  },
  {
   "cell_type": "code",
   "execution_count": 6,
   "id": "approved-funds",
   "metadata": {},
   "outputs": [
    {
     "name": "stdout",
     "output_type": "stream",
     "text": [
      "{'C': 0.1, 'decision_function_shape': 'ovo', 'kernel': 'linear'}\n",
      "SVC(C=0.1, decision_function_shape='ovo', kernel='linear')\n",
      "              precision    recall  f1-score   support\n",
      "\n",
      "           0       0.67      0.67      0.67         6\n",
      "           1       1.00      0.80      0.89         5\n",
      "           2       1.00      1.00      1.00         5\n",
      "           3       0.42      0.71      0.53         7\n",
      "           4       1.00      0.80      0.89         5\n",
      "           5       0.60      1.00      0.75         6\n",
      "           6       0.00      0.00      0.00         4\n",
      "           7       0.71      0.83      0.77         6\n",
      "           8       1.00      0.50      0.67         4\n",
      "           9       1.00      0.67      0.80         3\n",
      "          10       0.38      0.60      0.46         5\n",
      "          11       0.56      1.00      0.72         9\n",
      "          12       0.70      1.00      0.82         7\n",
      "          13       0.88      0.78      0.82         9\n",
      "          14       0.70      1.00      0.82         7\n",
      "          15       0.88      1.00      0.93         7\n",
      "          16       0.00      0.00      0.00         4\n",
      "          17       0.58      1.00      0.74         7\n",
      "          18       0.86      0.86      0.86         7\n",
      "          19       0.67      0.67      0.67         6\n",
      "          20       1.00      0.80      0.89         5\n",
      "          21       0.83      0.83      0.83         6\n",
      "          22       1.00      0.50      0.67         4\n",
      "          23       1.00      0.25      0.40         4\n",
      "          24       0.75      1.00      0.86         6\n",
      "          25       0.50      0.38      0.43         8\n",
      "          26       0.78      1.00      0.88         7\n",
      "          27       0.75      0.75      0.75         4\n",
      "          28       0.75      0.60      0.67         5\n",
      "          29       0.67      0.67      0.67         6\n",
      "          30       0.80      0.80      0.80         5\n",
      "          31       0.80      0.80      0.80         5\n",
      "          32       0.14      0.17      0.15         6\n",
      "          33       1.00      0.80      0.89         5\n",
      "          34       0.70      1.00      0.82         7\n",
      "          35       1.00      0.83      0.91         6\n",
      "          36       0.75      1.00      0.86         6\n",
      "          37       0.83      1.00      0.91         5\n",
      "          38       1.00      0.83      0.91         6\n",
      "          39       0.88      0.88      0.88         8\n",
      "          40       0.71      0.83      0.77         6\n",
      "          41       0.50      0.60      0.55         5\n",
      "          42       1.00      0.83      0.91         6\n",
      "          43       0.75      0.86      0.80         7\n",
      "          44       0.67      0.50      0.57         4\n",
      "          45       0.83      1.00      0.91         5\n",
      "          46       0.67      0.57      0.62         7\n",
      "          47       0.60      0.60      0.60         5\n",
      "          48       1.00      1.00      1.00         7\n",
      "          49       0.86      1.00      0.92         6\n",
      "          50       0.40      0.80      0.53         5\n",
      "          51       0.67      1.00      0.80         6\n",
      "          52       1.00      0.50      0.67         4\n",
      "          53       1.00      0.25      0.40         4\n",
      "          54       1.00      1.00      1.00         4\n",
      "          55       1.00      1.00      1.00         5\n",
      "          56       0.62      0.71      0.67         7\n",
      "          57       1.00      0.60      0.75         5\n",
      "          58       0.75      0.86      0.80         7\n",
      "          59       1.00      0.80      0.89         5\n",
      "          60       0.00      0.00      0.00         4\n",
      "          61       1.00      0.60      0.75         5\n",
      "          62       1.00      0.80      0.89         5\n",
      "          63       1.00      1.00      1.00         6\n",
      "          64       1.00      0.33      0.50         3\n",
      "          65       1.00      1.00      1.00         6\n",
      "          66       1.00      0.75      0.86         4\n",
      "          67       1.00      0.67      0.80         6\n",
      "          68       0.83      0.83      0.83         6\n",
      "          69       0.00      0.00      0.00         2\n",
      "          70       0.56      0.83      0.67         6\n",
      "          71       1.00      0.75      0.86         4\n",
      "          72       0.71      0.71      0.71         7\n",
      "          73       0.60      0.86      0.71         7\n",
      "          74       0.75      0.50      0.60         6\n",
      "          75       0.67      0.33      0.44         6\n",
      "          76       0.50      0.40      0.44         5\n",
      "          77       0.60      0.75      0.67         8\n",
      "          78       0.67      1.00      0.80         6\n",
      "          79       1.00      1.00      1.00         5\n",
      "          80       1.00      0.86      0.92         7\n",
      "          81       0.80      0.80      0.80         5\n",
      "          82       0.75      1.00      0.86         6\n",
      "          83       0.83      1.00      0.91         5\n",
      "          84       1.00      1.00      1.00         5\n",
      "          85       0.60      0.50      0.55         6\n",
      "          86       0.67      0.50      0.57         4\n",
      "          87       0.83      1.00      0.91         5\n",
      "          88       0.75      0.60      0.67         5\n",
      "          89       1.00      0.75      0.86         4\n",
      "          90       0.50      0.83      0.62         6\n",
      "          91       1.00      0.25      0.40         4\n",
      "          92       0.83      1.00      0.91         5\n",
      "          93       1.00      0.83      0.91         6\n",
      "          94       0.80      0.80      0.80         5\n",
      "          95       0.83      0.83      0.83         6\n",
      "          96       1.00      0.67      0.80         6\n",
      "          97       0.80      0.80      0.80         5\n",
      "          98       1.00      0.71      0.83         7\n",
      "          99       0.80      1.00      0.89         4\n",
      "         100       0.00      0.00      0.00         3\n",
      "         101       0.71      0.83      0.77         6\n",
      "         102       0.50      0.25      0.33         4\n",
      "         103       0.80      0.57      0.67         7\n",
      "         104       1.00      0.75      0.86         4\n",
      "         105       1.00      0.80      0.89         5\n",
      "         106       0.80      0.80      0.80         5\n",
      "         107       1.00      1.00      1.00         5\n",
      "         108       1.00      0.40      0.57         5\n",
      "\n",
      "    accuracy                           0.76       600\n",
      "   macro avg       0.77      0.73      0.73       600\n",
      "weighted avg       0.77      0.76      0.74       600\n",
      "\n"
     ]
    },
    {
     "name": "stderr",
     "output_type": "stream",
     "text": [
      "/home/administrador/deep_learning_speaker_recognition/venv/lib/python3.8/site-packages/sklearn/metrics/_classification.py:1245: UndefinedMetricWarning: Precision and F-score are ill-defined and being set to 0.0 in labels with no predicted samples. Use `zero_division` parameter to control this behavior.\n",
      "  _warn_prf(average, modifier, msg_start, len(result))\n",
      "/home/administrador/deep_learning_speaker_recognition/venv/lib/python3.8/site-packages/sklearn/metrics/_classification.py:1245: UndefinedMetricWarning: Precision and F-score are ill-defined and being set to 0.0 in labels with no predicted samples. Use `zero_division` parameter to control this behavior.\n",
      "  _warn_prf(average, modifier, msg_start, len(result))\n",
      "/home/administrador/deep_learning_speaker_recognition/venv/lib/python3.8/site-packages/sklearn/metrics/_classification.py:1245: UndefinedMetricWarning: Precision and F-score are ill-defined and being set to 0.0 in labels with no predicted samples. Use `zero_division` parameter to control this behavior.\n",
      "  _warn_prf(average, modifier, msg_start, len(result))\n"
     ]
    }
   ],
   "source": [
    "# %%\n",
    "\n",
    "# # print best parameter after tuning\n",
    "print(model.best_params_)\n",
    "#\n",
    "# # print how our model looks after hyper-parameter tuning\n",
    "print(model.best_estimator_)\n",
    "\n",
    "grid_predictions = model.predict(x_val)\n",
    "#\n",
    "# # print classification report\n",
    "print(classification_report(y_val, grid_predictions))"
   ]
  },
  {
   "cell_type": "code",
   "execution_count": 7,
   "id": "proper-reaction",
   "metadata": {},
   "outputs": [
    {
     "name": "stdout",
     "output_type": "stream",
     "text": [
      "0.755\n",
      "[44] 94\n"
     ]
    }
   ],
   "source": [
    "# %% SCORE\n",
    "\n",
    "print(model.score(x_val, y_val))\n",
    "\n",
    "print(model.predict(np.array([x_val[3]])), y_val[3])"
   ]
  },
  {
   "cell_type": "code",
   "execution_count": 10,
   "id": "lesser-retailer",
   "metadata": {},
   "outputs": [
    {
     "data": {
      "text/plain": [
       "0.7091666666666667"
      ]
     },
     "execution_count": 10,
     "metadata": {},
     "output_type": "execute_result"
    }
   ],
   "source": [
    "dump_info = {\n",
    "    score_test\n",
    "    ...model.best_params_\n",
    "}"
   ]
  },
  {
   "cell_type": "code",
   "execution_count": null,
   "id": "attached-congo",
   "metadata": {},
   "outputs": [],
   "source": [
    "joblib.dump(gs, f'model/svm/{method_algo}_{sampling_rate}.pkl')"
   ]
  }
 ],
 "metadata": {
  "kernelspec": {
   "display_name": "Python 3",
   "language": "python",
   "name": "python3"
  },
  "language_info": {
   "codemirror_mode": {
    "name": "ipython",
    "version": 3
   },
   "file_extension": ".py",
   "mimetype": "text/x-python",
   "name": "python",
   "nbconvert_exporter": "python",
   "pygments_lexer": "ipython3",
   "version": "3.8.5"
  }
 },
 "nbformat": 4,
 "nbformat_minor": 5
}
