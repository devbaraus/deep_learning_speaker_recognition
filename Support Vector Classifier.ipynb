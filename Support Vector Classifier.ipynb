{
 "cells": [
  {
   "cell_type": "code",
   "execution_count": 1,
   "id": "anticipated-trick",
   "metadata": {},
   "outputs": [],
   "source": [
    "# %% Package imports\n",
    "from sklearn import svm\n",
    "from sklearn.ensemble import RandomForestClassifier\n",
    "from sklearn.metrics import classification_report, f1_score, accuracy_score\n",
    "from sklearn.utils import shuffle\n",
    "from sklearn.model_selection import train_test_split, GridSearchCV, KFold, cross_val_score\n",
    "from deep_audio import Audio, Visualization, Directory, Model, JSON\n",
    "import numpy as np\n",
    "from joblib import Parallel, delayed\n",
    "import multiprocessing\n",
    "import joblib"
   ]
  },
  {
   "cell_type": "code",
   "execution_count": 2,
   "id": "specified-despite",
   "metadata": {},
   "outputs": [],
   "source": [
    "# %% Load dataset\n",
    "sampling_rate = 22050\n",
    "\n",
    "method_algo = 'mfcc'\n",
    "\n",
    "x, y, mapping = Directory.load_json_data(f'processed/{method_algo}/{method_algo}_{sampling_rate}.json',\n",
    "                                         inputs_fieldname=method_algo)"
   ]
  },
  {
   "cell_type": "code",
   "execution_count": 3,
   "id": "aggressive-computer",
   "metadata": {},
   "outputs": [],
   "source": [
    "# SPLIT 5 FOLDS\n",
    "\n",
    "random_state = 42\n",
    "\n",
    "kf = KFold(n_splits=5, shuffle=True, random_state=random_state)\n",
    "kf.get_n_splits(x)\n",
    "\n",
    "x_holder = []\n",
    "\n",
    "for row in x:\n",
    "    x_holder.append(row.flatten())\n",
    "\n",
    "x = np.array(x_holder)\n",
    "\n",
    "n = len(x)\n",
    "\n",
    "x = x[:n]\n",
    "y = y[:n]"
   ]
  },
  {
   "cell_type": "code",
   "execution_count": 4,
   "id": "variable-efficiency",
   "metadata": {},
   "outputs": [],
   "source": [
    "def process_fold(train_index, test_index):\n",
    "    x_train, x_val = x[train_index], x[test_index]\n",
    "    y_train, y_val = y[train_index], y[test_index]\n",
    "    \n",
    "    model = svm.SVC(C=10, kernel='rbf', decision_function_shape='ovo')\n",
    "        \n",
    "    model.fit(x_train, y_train)\n",
    "    \n",
    "    # TESTA ACCURÁCIAS\n",
    "    \n",
    "    score_test = model.score(x_val, y_val)\n",
    "\n",
    "    score_train = model.score(x_train, y_train)\n",
    "\n",
    "    y_hat = model.predict(x_val)\n",
    "    \n",
    "    # SALVA MODELO\n",
    "    \n",
    "    filename = f'model/svm/5fold/{method_algo}_{sampling_rate}/acc{score_test}_seed{random_state}.sav'\n",
    "    \n",
    "    Directory.create_directory(filename, file=True)\n",
    "    \n",
    "    joblib.dump(model, filename)\n",
    "    \n",
    "    # SALVA ACURÁCIAS E PARAMETROS\n",
    "    \n",
    "    return {\n",
    "        'seed': random_state,\n",
    "        'feature_method': method_algo,\n",
    "        'sample_rate': sampling_rate,\n",
    "        'train_test': [len(x_train), len(x_val)],\n",
    "        'score_train': score_train,\n",
    "        'score_test': score_test,\n",
    "        'f1_micro': f1_score(y_hat, y_val, average='micro'),\n",
    "        'f1_macro': f1_score(y_hat, y_val, average='macro'),\n",
    "        'model_file': f'acc{score_test}_seed{random_state}.sav',\n",
    "        'params': model.get_params()\n",
    "    }"
   ]
  },
  {
   "cell_type": "code",
   "execution_count": null,
   "id": "attached-congo",
   "metadata": {},
   "outputs": [
    {
     "name": "stderr",
     "output_type": "stream",
     "text": [
      "[Parallel(n_jobs=4)]: Using backend LokyBackend with 4 concurrent workers.\n"
     ]
    }
   ],
   "source": [
    "num_cores = multiprocessing.cpu_count()\n",
    "\n",
    "dump_info = Parallel(n_jobs=num_cores, verbose=3)(\n",
    "    delayed(process_fold)(train_index, test_index) for train_index, test_index in kf.split(x))\n",
    "\n",
    "JSON.create_json_file(f'model/svm/5fold/{method_algo}_{sampling_rate}/info.json', dump_info)"
   ]
  },
  {
   "cell_type": "code",
   "execution_count": null,
   "id": "rotary-google",
   "metadata": {},
   "outputs": [],
   "source": [
    "#     data = {\n",
    "#         \"mapping\": mapping.tolist(),\n",
    "#         \"labels\": y_val.tolist(),\n",
    "#         \"mfcc\": x_val.tolist(),\n",
    "#     }\n",
    "\n",
    "#     JSON.create_json_file(f'datatest/svm/{method_algo}_{sampling_rate}/datatest_{random_state}_{x.shape[0]}.json', data)"
   ]
  },
  {
   "cell_type": "code",
   "execution_count": null,
   "id": "technical-breakdown",
   "metadata": {},
   "outputs": [],
   "source": [
    "#     param_grid = {\n",
    "#         'C': [0.1, 1, 10, 100, 1000],\n",
    "#     #     'gamma': [1, 0.1, 0.01, 0.001, 0.0001],\n",
    "#         'kernel': ['linear', 'rbf'],\n",
    "#         'decision_function_shape': ['ovo', 'ovr']\n",
    "#     }\n",
    "\n",
    "    # %% training\n",
    "\n",
    "    # model = RandomForestClassifier()\n",
    "\n",
    "    # model = GridSearchCV(svm.SVC(), param_grid, refit=True, verbose=3, n_jobs=8)"
   ]
  },
  {
   "cell_type": "code",
   "execution_count": null,
   "id": "approved-funds",
   "metadata": {},
   "outputs": [],
   "source": [
    "# # %%\n",
    "\n",
    "# # # print best parameter after tuning\n",
    "# print(model.best_params_)\n",
    "# #\n",
    "# # # print how our model looks after hyper-parameter tuning\n",
    "# print(model.best_estimator_)\n",
    "\n",
    "# grid_predictions = model.predict(x_val)\n",
    "# #\n",
    "# # # print classification report\n",
    "# print(classification_report(y_val, grid_predictions))"
   ]
  }
 ],
 "metadata": {
  "kernelspec": {
   "display_name": "Python 3",
   "language": "python",
   "name": "python3"
  },
  "language_info": {
   "codemirror_mode": {
    "name": "ipython",
    "version": 3
   },
   "file_extension": ".py",
   "mimetype": "text/x-python",
   "name": "python",
   "nbconvert_exporter": "python",
   "pygments_lexer": "ipython3",
   "version": "3.8.5"
  }
 },
 "nbformat": 4,
 "nbformat_minor": 5
}
