{
 "cells": [
  {
   "cell_type": "code",
   "execution_count": 2,
   "id": "anticipated-trick",
   "metadata": {},
   "outputs": [],
   "source": [
    "# %% Package imports\n",
    "from sklearn import svm\n",
    "from sklearn.ensemble import RandomForestClassifier\n",
    "from sklearn.metrics import classification_report\n",
    "from sklearn.utils import shuffle\n",
    "from sklearn.model_selection import train_test_split, GridSearchCV, KFold\n",
    "from deep_audio import Audio, Visualization, Directory, Model\n",
    "import numpy as np"
   ]
  },
  {
   "cell_type": "code",
   "execution_count": 1,
   "id": "specified-despite",
   "metadata": {},
   "outputs": [
    {
     "ename": "NameError",
     "evalue": "name 'Directory' is not defined",
     "output_type": "error",
     "traceback": [
      "\u001b[0;31m---------------------------------------------------------------------------\u001b[0m",
      "\u001b[0;31mNameError\u001b[0m                                 Traceback (most recent call last)",
      "\u001b[0;32m<ipython-input-1-a5100767ca54>\u001b[0m in \u001b[0;36m<module>\u001b[0;34m\u001b[0m\n\u001b[1;32m      1\u001b[0m \u001b[0;31m# %% Load dataset\u001b[0m\u001b[0;34m\u001b[0m\u001b[0;34m\u001b[0m\u001b[0;34m\u001b[0m\u001b[0m\n\u001b[0;32m----> 2\u001b[0;31m x, y, mapping = Directory.load_json_data('processed/mfcc/mfcc_16000.json',\n\u001b[0m\u001b[1;32m      3\u001b[0m                                          inputs_fieldname='mfcc')\n",
      "\u001b[0;31mNameError\u001b[0m: name 'Directory' is not defined"
     ]
    }
   ],
   "source": [
    "# %% Load dataset\n",
    "x, y, mapping = Directory.load_json_data('processed/mfcc/mfcc_16000.json',\n",
    "                                         inputs_fieldname='mfcc')"
   ]
  },
  {
   "cell_type": "code",
   "execution_count": null,
   "id": "aggressive-computer",
   "metadata": {},
   "outputs": [],
   "source": [
    "# %% preprocessing\n",
    "x_holder = []\n",
    "\n",
    "for row in x:\n",
    "    x_holder.append(row.flatten())\n",
    "\n",
    "x = np.array(x_holder)\n",
    "\n",
    "\n",
    "x, y = shuffle(x, y)\n",
    "\n",
    "# n = 3000\n",
    "\n",
    "# x = x[:n]\n",
    "# y = y[:n]\n",
    "\n",
    "\n",
    "# kf = KFold(n_splits=5, shuffle=True, random_state=42)\n",
    "# kf.get_n_splits(x)\n",
    "\n",
    "x_train, x_val, y_train, y_val = train_test_split(x, y, train_size=0.8, random_state=42, stratify=y)"
   ]
  },
  {
   "cell_type": "code",
   "execution_count": null,
   "id": "technical-breakdown",
   "metadata": {},
   "outputs": [],
   "source": [
    "# for train_index, test_index in kf.split(x):\n",
    "#     x_train, x_val = x[train_index], x[test_index]\n",
    "#     y_train, y_val = y[train_index], y[test_index]\n",
    "\n",
    "# %% Split data\n",
    "\n",
    "param_grid = {\n",
    "    'C': [0.1, 1, 10, 100, 1000],\n",
    "    # 'gamma': [1, 0.1, 0.01, 0.001, 0.0001],\n",
    "    'kernel': ['linear', 'rbf', 'poly'],\n",
    "    'decision_function_shape': ['ovo', 'ovr']\n",
    "}\n",
    "\n",
    "# %% training\n",
    "\n",
    "# model = RandomForestClassifier()\n",
    "# model = svm.SVC(C=10, kernel='rbf')\n",
    "\n",
    "model = GridSearchCV(svm.SVC(), param_grid, refit=True, verbose=3, n_jobs=8)\n",
    "\n",
    "model.fit(x_train, y_train)"
   ]
  },
  {
   "cell_type": "code",
   "execution_count": null,
   "id": "approved-funds",
   "metadata": {},
   "outputs": [],
   "source": [
    "# %%\n",
    "\n",
    "# # print best parameter after tuning\n",
    "print(model.best_params_)\n",
    "#\n",
    "# # print how our model looks after hyper-parameter tuning\n",
    "print(model.best_estimator_)\n",
    "\n",
    "grid_predictions = model.predict(x_val)\n",
    "#\n",
    "# # print classification report\n",
    "print(classification_report(y_val, grid_predictions))"
   ]
  },
  {
   "cell_type": "code",
   "execution_count": null,
   "id": "proper-reaction",
   "metadata": {},
   "outputs": [],
   "source": [
    "# %% SCORE\n",
    "\n",
    "print(model.score(x_val, y_val))\n",
    "\n",
    "print(model.predict(np.array([x_val[3]])), y_val[3])"
   ]
  }
 ],
 "metadata": {
  "kernelspec": {
   "display_name": "Python 3",
   "language": "python",
   "name": "python3"
  },
  "language_info": {
   "codemirror_mode": {
    "name": "ipython",
    "version": 3
   },
   "file_extension": ".py",
   "mimetype": "text/x-python",
   "name": "python",
   "nbconvert_exporter": "python",
   "pygments_lexer": "ipython3",
   "version": "3.8.5"
  }
 },
 "nbformat": 4,
 "nbformat_minor": 5
}
