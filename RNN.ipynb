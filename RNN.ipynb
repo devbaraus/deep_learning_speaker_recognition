{
 "cells": [
  {
   "cell_type": "code",
   "execution_count": 1,
   "id": "challenging-heart",
   "metadata": {},
   "outputs": [],
   "source": [
    "from sklearn.model_selection import train_test_split\n",
    "import tensorflow.keras as keras\n",
    "import time\n",
    "import numpy as np\n",
    "import matplotlib.pyplot as plt\n",
    "import math\n",
    "from deep_audio import Directory, JSON"
   ]
  },
  {
   "cell_type": "code",
   "execution_count": 2,
   "id": "medium-gardening",
   "metadata": {},
   "outputs": [],
   "source": [
    "method_algo = 'mfcc'\n",
    "n_rate = 24000\n",
    "\n",
    "DATASET_PATH = f'processed/{method_algo}/{method_algo}_{n_rate}.json'\n",
    "\n",
    "inputs, targets, mapping = Directory.load_json_data(DATASET_PATH, inputs_fieldname=method_algo)"
   ]
  },
  {
   "cell_type": "code",
   "execution_count": 3,
   "id": "jewish-company",
   "metadata": {},
   "outputs": [],
   "source": [
    "def create_dense_model():\n",
    "    # build the network architecture\n",
    "    model = keras.Sequential([\n",
    "        # input layer\n",
    "        keras.layers.Flatten(input_shape=(inputs.shape[1], inputs.shape[2])),\n",
    "\n",
    "        # 1st hidden layer\n",
    "        keras.layers.Dense(512, activation='relu'),\n",
    "\n",
    "        # 2nd hidden layer\n",
    "        keras.layers.Dense(256, activation='relu'),\n",
    "\n",
    "        # 3rd hidden layer\n",
    "        keras.layers.Dense(128, activation='relu'),\n",
    "\n",
    "        # output layer\n",
    "        keras.layers.Dense(len(mapping), activation='softmax'),\n",
    "    ])\n",
    "\n",
    "    return model"
   ]
  },
  {
   "cell_type": "code",
   "execution_count": 4,
   "id": "lesbian-attribute",
   "metadata": {},
   "outputs": [],
   "source": [
    "# SPLIT DOS DADOS\n",
    "random_state = 42\n",
    "# for random_state in [5438, 53, 14]:\n",
    "#     for _ in range(4):\n",
    "# split data into train and test set\n",
    "inputs_train, inputs_test, targets_train, targets_test = train_test_split(inputs,\n",
    "                                                                          targets,\n",
    "                                                                          test_size=0.2,\n",
    "                                                                          stratify=targets,\n",
    "                                                                          random_state=random_state)\n",
    "\n",
    "inputs_train, inputs_valid, targets_train, targets_valid = train_test_split(inputs_train,\n",
    "                                                                          targets_train,\n",
    "                                                                          test_size=0.2,\n",
    "                                                                          stratify=targets_train,\n",
    "                                                                          random_state=random_state)\n"
   ]
  },
  {
   "cell_type": "code",
   "execution_count": 5,
   "id": "changing-customs",
   "metadata": {},
   "outputs": [],
   "source": [
    "# SALVA UMA CÓPIA DOS DADOS DE TESTE\n",
    "\n",
    "# data = {\n",
    "#     \"mapping\": mapping,\n",
    "#     \"labels\": targets_test,\n",
    "#     \"mfcc\": inputs_test,\n",
    "# }\n",
    "\n",
    "# JSON.create_json_file(f'datatest/deep/datatest_{random_state}_{inputs.shape[0]}.json', data)"
   ]
  },
  {
   "cell_type": "code",
   "execution_count": 6,
   "id": "steady-violence",
   "metadata": {},
   "outputs": [],
   "source": [
    "# CRIA O MODELO\n",
    "model = create_dense_model()\n",
    "\n",
    "# COMPILA A REDE\n",
    "optimizer = keras.optimizers.Adam(learning_rate=0.0001)\n",
    "\n",
    "model.compile(optimizer=optimizer,\n",
    "      loss='sparse_categorical_crossentropy',\n",
    "      metrics=['accuracy'])"
   ]
  },
  {
   "cell_type": "code",
   "execution_count": 7,
   "id": "northern-fellowship",
   "metadata": {},
   "outputs": [],
   "source": [
    "# SALVA A ESTRUTURA DO MODELO\n",
    "\n",
    "timestamp = int(time.time())\n",
    "\n",
    "Directory.create_directory(f'models/{method_algo}/{timestamp}')\n",
    "\n",
    "JSON.create_json_file(f'models/{method_algo}/{timestamp}/model_structure.json', model.to_json())\n",
    "\n",
    "model_save_filename = f'models/{method_algo}/{timestamp}/model_weight.h5'\n",
    "\n",
    "# DECIDE QUANDO PARAR\n",
    "earlystopping_cb = keras.callbacks.EarlyStopping(patience=300, restore_best_weights=True)\n",
    "\n",
    "# SALVA OS PESOS\n",
    "mdlcheckpoint_cb = keras.callbacks.ModelCheckpoint(\n",
    "model_save_filename, monitor=\"val_accuracy\", save_best_only=True\n",
    ")"
   ]
  },
  {
   "cell_type": "code",
   "execution_count": null,
   "id": "coral-collar",
   "metadata": {},
   "outputs": [
    {
     "name": "stdout",
     "output_type": "stream",
     "text": [
      "Epoch 1/10000\n",
      "89/89 [==============================] - 6s 46ms/step - loss: 201.3924 - accuracy: 0.0110 - val_loss: 18.9922 - val_accuracy: 0.0163\n",
      "Epoch 2/10000\n",
      "89/89 [==============================] - 2s 27ms/step - loss: 9.0630 - accuracy: 0.0177 - val_loss: 4.8204 - val_accuracy: 0.0134\n",
      "Epoch 3/10000\n",
      "89/89 [==============================] - 3s 38ms/step - loss: 4.7532 - accuracy: 0.0134 - val_loss: 4.7638 - val_accuracy: 0.0145\n",
      "Epoch 4/10000\n",
      "89/89 [==============================] - 3s 37ms/step - loss: 4.6976 - accuracy: 0.0139 - val_loss: 4.7517 - val_accuracy: 0.0141\n",
      "Epoch 5/10000\n",
      "89/89 [==============================] - 4s 39ms/step - loss: 4.6785 - accuracy: 0.0138 - val_loss: 4.7523 - val_accuracy: 0.0145\n",
      "Epoch 6/10000\n",
      "89/89 [==============================] - 2s 27ms/step - loss: 4.6602 - accuracy: 0.0122 - val_loss: 4.7506 - val_accuracy: 0.0138\n",
      "Epoch 7/10000\n",
      "89/89 [==============================] - 2s 22ms/step - loss: 4.6542 - accuracy: 0.0145 - val_loss: 4.7567 - val_accuracy: 0.0145\n",
      "Epoch 8/10000\n",
      "89/89 [==============================] - 2s 22ms/step - loss: 4.6482 - accuracy: 0.0135 - val_loss: 4.7575 - val_accuracy: 0.0145\n",
      "Epoch 9/10000\n",
      "89/89 [==============================] - 3s 31ms/step - loss: 4.6413 - accuracy: 0.0142 - val_loss: 4.7597 - val_accuracy: 0.0141\n",
      "Epoch 10/10000\n",
      "89/89 [==============================] - 2s 22ms/step - loss: 4.6426 - accuracy: 0.0150 - val_loss: 4.7581 - val_accuracy: 0.0145\n",
      "Epoch 11/10000\n",
      "89/89 [==============================] - 2s 22ms/step - loss: 4.6384 - accuracy: 0.0156 - val_loss: 4.7648 - val_accuracy: 0.0145\n",
      "Epoch 12/10000\n",
      "89/89 [==============================] - 3s 34ms/step - loss: 4.6337 - accuracy: 0.0121 - val_loss: 4.7667 - val_accuracy: 0.0149\n",
      "Epoch 13/10000\n",
      "89/89 [==============================] - 3s 35ms/step - loss: 4.6353 - accuracy: 0.0168 - val_loss: 4.7715 - val_accuracy: 0.0152\n",
      "Epoch 14/10000\n",
      "72/89 [=======================>......] - ETA: 0s - loss: 4.6276 - accuracy: 0.0174"
     ]
    }
   ],
   "source": [
    "# TREINA O MODELO\n",
    "history = model.fit(inputs_train, targets_train,\n",
    "            validation_data=(inputs_valid, targets_valid),\n",
    "            epochs=10000,\n",
    "            batch_size=128,\n",
    "            callbacks=[earlystopping_cb, mdlcheckpoint_cb])"
   ]
  },
  {
   "cell_type": "code",
   "execution_count": null,
   "id": "dental-chambers",
   "metadata": {},
   "outputs": [],
   "source": [
    "# GERA O GRAFICO DE ACURÁCIA\n",
    "plt.plot(history.history['accuracy'])\n",
    "plt.plot(history.history['val_accuracy'])\n",
    "plt.title('model accuracy')\n",
    "plt.ylabel('accuracy')\n",
    "plt.xlabel('epoch')\n",
    "plt.legend(['train', 'val'], loc='upper left')\n",
    "plt.savefig(f'models/{method_algo}/{timestamp}/graph_accuracy.png')\n",
    "plt.close()\n",
    "\n",
    "# GERA O GRÁFICO DE PERCA\n",
    "plt.plot(history.history['loss'])\n",
    "plt.plot(history.history['val_loss'])\n",
    "plt.title('model loss')\n",
    "plt.ylabel('loss')\n",
    "plt.xlabel('epoch')\n",
    "plt.legend(['train', 'val'], loc='upper left')\n",
    "plt.savefig(f'models/{method_algo}/{timestamp}/graph_loss.png')\n",
    "plt.close()"
   ]
  },
  {
   "cell_type": "code",
   "execution_count": null,
   "id": "round-bundle",
   "metadata": {},
   "outputs": [],
   "source": [
    "# PEGA A MAIOR E ACURÁCIA\n",
    "higher_accuracy = model.evaluate(inputs_test, targets_test, batch_size=128)\n",
    "\n",
    "higher_accuracy = str(int(higher_accuracy[1] * 10000)).zfill(4)"
   ]
  },
  {
   "cell_type": "code",
   "execution_count": null,
   "id": "fabulous-tracker",
   "metadata": {},
   "outputs": [],
   "source": [
    "# RENOMEIA A PASTA\n",
    "Directory.rename_directory(f'models/{method_algo}/{timestamp}',\n",
    "                   f'models/{method_algo}/acc{higher_accuracy}_seed{random_state}_epochs{len(history.history[\"accuracy\"])}_time{timestamp}')"
   ]
  }
 ],
 "metadata": {
  "kernelspec": {
   "display_name": "Python 3",
   "language": "python",
   "name": "python3"
  },
  "language_info": {
   "codemirror_mode": {
    "name": "ipython",
    "version": 3
   },
   "file_extension": ".py",
   "mimetype": "text/x-python",
   "name": "python",
   "nbconvert_exporter": "python",
   "pygments_lexer": "ipython3",
   "version": "3.8.5"
  }
 },
 "nbformat": 4,
 "nbformat_minor": 5
}
