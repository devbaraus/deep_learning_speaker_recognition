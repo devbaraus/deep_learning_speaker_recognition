{
 "cells": [
  {
   "cell_type": "code",
   "execution_count": 1,
   "id": "vietnamese-rental",
   "metadata": {},
   "outputs": [],
   "source": [
    "from os import walk\n",
    "from joblib import Parallel, delayed\n",
    "import librosa\n",
    "import python_speech_features\n",
    "import numpy as np\n",
    "import multiprocessing\n",
    "import json\n",
    "from deep_audio import Directory, Audio, JSON"
   ]
  },
  {
   "cell_type": "code",
   "execution_count": 2,
   "id": "unknown-template",
   "metadata": {},
   "outputs": [],
   "source": [
    "num_cores = multiprocessing.cpu_count()\n",
    "\n",
    "sampling_rate = 24000\n",
    "\n",
    "path = f'audios/{sampling_rate}'\n",
    "\n",
    "f = Directory.filenames(path)\n",
    "\n",
    "data = {\n",
    "    \"mapping\": [],\n",
    "    \"mfcc\": [],\n",
    "    \"labels\": []\n",
    "}"
   ]
  },
  {
   "cell_type": "code",
   "execution_count": 3,
   "id": "disturbed-greeting",
   "metadata": {},
   "outputs": [],
   "source": [
    "def process_directory(dir, index, library):\n",
    "    signal, sr = Audio.read(f'{path}/{dir}', sr=sampling_rate, normalize=True)\n",
    "\n",
    "    signal = np.array(signal)\n",
    "\n",
    "    signal = signal[:len(signal) - len(signal) % (sr * 5)]\n",
    "\n",
    "    segments = len(signal) // (sr * 5)\n",
    "\n",
    "    m = {\n",
    "        \"mfcc\": [],\n",
    "        \"labels\": [index] * segments\n",
    "    }\n",
    "\n",
    "    for i in range(segments):\n",
    "        start_sample = sr * i * 5\n",
    "        finish_sample = start_sample + (sr * 5)\n",
    "\n",
    "        sample = signal[start_sample:finish_sample]\n",
    "\n",
    "        n_mfcc = 13\n",
    "        n_mels = 40\n",
    "        n_fft = 2048 \n",
    "        hop_length = 512\n",
    "        fmin = 0\n",
    "        fmax = None\n",
    "\n",
    "        if library == 'librosa':\n",
    "            mfcc = librosa.feature.mfcc(y=sample, sr=sr, n_fft=n_fft,\n",
    "                                        n_mfcc=n_mfcc, n_mels=n_mels,\n",
    "                                        hop_length=hop_length,\n",
    "                                        fmin=fmin, fmax=fmax, htk=False)\n",
    "        elif library == 'psf':\n",
    "            mfcc = python_speech_features.mfcc(signal=sample, samplerate=sr, winlen=n_fft / sr, winstep=hop_length / sr,\n",
    "                                            numcep=n_mfcc, nfilt=n_mels, nfft=n_fft, lowfreq=fmin, highfreq=fmax,\n",
    "                                            preemph=0.0, ceplifter=0, appendEnergy=False)\n",
    "\n",
    "        elif library == 'torchaudio':\n",
    "            pass\n",
    "        \n",
    "        elif library == 'spafe':\n",
    "            pass\n",
    "\n",
    "        m['mfcc'].append(mfcc.tolist())\n",
    "\n",
    "    print(f'{dir} -> segments: {segments}')\n",
    "    return m"
   ]
  },
  {
   "cell_type": "code",
   "execution_count": 4,
   "id": "parliamentary-picnic",
   "metadata": {},
   "outputs": [],
   "source": [
    "def object_mfcc_to_json(m, library):\n",
    "    data['mapping'] = [file.replace('.wav', '') for file in f]\n",
    "\n",
    "    for i in m:\n",
    "        data['mfcc'].extend(i['mfcc'])\n",
    "        data['labels'].extend(i['labels'])\n",
    "\n",
    "    JSON.create_json_file(f'processed/mfcc/{library}/mfcc_{sampling_rate}.json', data)\n"
   ]
  },
  {
   "cell_type": "code",
   "execution_count": 5,
   "id": "coral-myrtle",
   "metadata": {},
   "outputs": [
    {
     "output_type": "stream",
     "name": "stderr",
     "text": [
      "[Parallel(n_jobs=8)]: Using backend LokyBackend with 8 concurrent workers.\n",
      "[Parallel(n_jobs=8)]: Done   1 tasks      | elapsed:   14.9s\n",
      "[Parallel(n_jobs=8)]: Done   2 tasks      | elapsed:   15.7s\n",
      "[Parallel(n_jobs=8)]: Done   3 tasks      | elapsed:   16.2s\n",
      "[Parallel(n_jobs=8)]: Done   4 tasks      | elapsed:   16.4s\n",
      "[Parallel(n_jobs=8)]: Done   5 tasks      | elapsed:   16.6s\n",
      "[Parallel(n_jobs=8)]: Done   6 tasks      | elapsed:   16.9s\n",
      "[Parallel(n_jobs=8)]: Done   7 tasks      | elapsed:   17.0s\n",
      "[Parallel(n_jobs=8)]: Done   8 tasks      | elapsed:   18.4s\n",
      "[Parallel(n_jobs=8)]: Done   9 tasks      | elapsed:   21.2s\n",
      "[Parallel(n_jobs=8)]: Done  10 tasks      | elapsed:   22.0s\n",
      "[Parallel(n_jobs=8)]: Done  11 tasks      | elapsed:   22.6s\n",
      "[Parallel(n_jobs=8)]: Done  12 tasks      | elapsed:   23.5s\n",
      "[Parallel(n_jobs=8)]: Done  13 tasks      | elapsed:   24.0s\n",
      "[Parallel(n_jobs=8)]: Done  14 tasks      | elapsed:   24.6s\n",
      "[Parallel(n_jobs=8)]: Done  15 tasks      | elapsed:   26.0s\n",
      "[Parallel(n_jobs=8)]: Done  16 tasks      | elapsed:   27.6s\n",
      "[Parallel(n_jobs=8)]: Done  17 tasks      | elapsed:   29.6s\n",
      "[Parallel(n_jobs=8)]: Done  18 tasks      | elapsed:   30.1s\n",
      "[Parallel(n_jobs=8)]: Done  19 tasks      | elapsed:   30.2s\n",
      "[Parallel(n_jobs=8)]: Done  20 tasks      | elapsed:   31.7s\n",
      "[Parallel(n_jobs=8)]: Done  21 tasks      | elapsed:   32.2s\n",
      "[Parallel(n_jobs=8)]: Done  22 tasks      | elapsed:   32.4s\n",
      "[Parallel(n_jobs=8)]: Done  23 tasks      | elapsed:   34.0s\n",
      "[Parallel(n_jobs=8)]: Done  24 tasks      | elapsed:   35.8s\n",
      "[Parallel(n_jobs=8)]: Done  25 tasks      | elapsed:   36.1s\n",
      "[Parallel(n_jobs=8)]: Done  26 tasks      | elapsed:   37.0s\n",
      "[Parallel(n_jobs=8)]: Done  28 out of  41 | elapsed:   38.4s remaining:   17.8s\n",
      "[Parallel(n_jobs=8)]: Done  30 out of  41 | elapsed:   39.5s remaining:   14.4s\n",
      "[Parallel(n_jobs=8)]: Done  32 out of  41 | elapsed:   43.0s remaining:   12.0s\n",
      "[Parallel(n_jobs=8)]: Done  34 out of  41 | elapsed:   45.2s remaining:    9.2s\n",
      "[Parallel(n_jobs=8)]: Done  36 out of  41 | elapsed:   46.4s remaining:    6.4s\n",
      "[Parallel(n_jobs=8)]: Done  38 out of  41 | elapsed:   47.6s remaining:    3.7s\n",
      "[Parallel(n_jobs=8)]: Done  41 out of  41 | elapsed:   49.0s finished\n"
     ]
    }
   ],
   "source": [
    "if __name__ == '__main__':\n",
    "    for library in ['librosa', 'psf']:\n",
    "        m = Parallel(n_jobs=num_cores//2, verbose=len(f), temp_folder='./tmp/')(\n",
    "            delayed(process_directory)(i, j, library) for j, i in enumerate(f))\n",
    "        object_mfcc_to_json(m, library)\n",
    "        data = {\n",
    "            \"mapping\": [],\n",
    "            \"mfcc\": [],\n",
    "            \"labels\": []\n",
    "        }\n"
   ]
  }
 ],
 "metadata": {
  "kernelspec": {
   "name": "python394jvsc74a57bd09fef416d5513c3ffa11f276184ad65b02b4ff4ed5eb630d2d43d165fda0f2272",
   "display_name": "Python 3.9.4 64-bit ('venv')"
  },
  "language_info": {
   "codemirror_mode": {
    "name": "ipython",
    "version": 3
   },
   "file_extension": ".py",
   "mimetype": "text/x-python",
   "name": "python",
   "nbconvert_exporter": "python",
   "pygments_lexer": "ipython3",
   "version": "3.9.4"
  },
  "metadata": {
   "interpreter": {
    "hash": "63fd5069d213b44bf678585dea6b12cceca9941eaf7f819626cde1f2670de90d"
   }
  }
 },
 "nbformat": 4,
 "nbformat_minor": 5
}