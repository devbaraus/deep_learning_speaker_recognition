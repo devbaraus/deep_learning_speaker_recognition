{
 "cells": [
  {
   "cell_type": "code",
   "execution_count": 1,
   "id": "vietnamese-rental",
   "metadata": {},
   "outputs": [],
   "source": [
    "from os import walk\n",
    "from joblib import Parallel, delayed\n",
    "import librosa\n",
    "import numpy as np\n",
    "import multiprocessing\n",
    "import json\n",
    "from deep_audio import Directory, Audio, JSON"
   ]
  },
  {
   "cell_type": "code",
   "execution_count": 2,
   "id": "unknown-template",
   "metadata": {},
   "outputs": [],
   "source": [
    "num_cores = multiprocessing.cpu_count()\n",
    "\n",
    "sampling_rate = 24000\n",
    "\n",
    "path = f'audios/{sampling_rate}'\n",
    "\n",
    "f = Directory.filenames(path)\n",
    "\n",
    "data = {\n",
    "    \"mapping\": [],\n",
    "    \"mfcc\": [],\n",
    "    \"labels\": []\n",
    "}"
   ]
  },
  {
   "cell_type": "code",
   "execution_count": 3,
   "id": "disturbed-greeting",
   "metadata": {},
   "outputs": [],
   "source": [
    "def process_directory(dir, index):\n",
    "    signal, sr = Audio.read(f'{path}/{dir}', sr=sampling_rate, normalize=True)\n",
    "\n",
    "    signal = np.array(signal)\n",
    "\n",
    "    signal = signal[:len(signal) - len(signal) % (sr * 5)]\n",
    "\n",
    "    segments = len(signal) // (sr * 5)\n",
    "\n",
    "    m = {\n",
    "        \"mfcc\": [],\n",
    "        \"labels\": [index] * segments\n",
    "    }\n",
    "\n",
    "    for i in range(segments):\n",
    "        start_sample = sr * i * 5\n",
    "        finish_sample = start_sample + (sr * 5)\n",
    "\n",
    "        sample = signal[start_sample:finish_sample]\n",
    "\n",
    "        # sample = Audio.normalize(sample)\n",
    "\n",
    "        # mfcc = Audio.mfcc(sample, rate=sr)\n",
    "        mfcc = librosa.feature.mfcc(sample, sr=sr, n_mfcc=13, hop_length=512, n_fft=2048, lifter=22)\n",
    "\n",
    "        # mfcc = mfcc.T\n",
    "\n",
    "        m['mfcc'].append(mfcc.tolist())\n",
    "\n",
    "    print(f'{dir} -> segments: {segments}')\n",
    "    return m"
   ]
  },
  {
   "cell_type": "code",
   "execution_count": 4,
   "id": "parliamentary-picnic",
   "metadata": {},
   "outputs": [],
   "source": [
    "def object_mfcc_to_json(m):\n",
    "    data['mapping'] = [file.replace('.wav', '') for file in f]\n",
    "\n",
    "    for i in m:\n",
    "        data['mfcc'].extend(i['mfcc'])\n",
    "        data['labels'].extend(i['labels'])\n",
    "\n",
    "    JSON.create_json_file(f'processed/mfcc/mfcc_{sampling_rate}.json', data)\n"
   ]
  },
  {
   "cell_type": "code",
   "execution_count": 5,
   "id": "coral-myrtle",
   "metadata": {},
   "outputs": [
    {
     "name": "stdout",
     "output_type": "stream",
     "text": [
      "[Parallel(n_jobs=4)]: Using backend LokyBackend with 4 concurrent workers.\n",
      "[Parallel(n_jobs=4)]: Done   1 tasks      | elapsed:    4.3s\n",
      "[Parallel(n_jobs=4)]: Done   2 tasks      | elapsed:    5.2s\n",
      "[Parallel(n_jobs=4)]: Done   3 tasks      | elapsed:    5.3s\n",
      "[Parallel(n_jobs=4)]: Done   4 tasks      | elapsed:    5.4s\n",
      "[Parallel(n_jobs=4)]: Done   5 tasks      | elapsed:    7.4s\n",
      "[Parallel(n_jobs=4)]: Done   6 tasks      | elapsed:    8.6s\n",
      "[Parallel(n_jobs=4)]: Done   7 tasks      | elapsed:    8.9s\n",
      "[Parallel(n_jobs=4)]: Done   8 tasks      | elapsed:    9.5s\n",
      "[Parallel(n_jobs=4)]: Done   9 tasks      | elapsed:   11.2s\n",
      "[Parallel(n_jobs=4)]: Done  10 tasks      | elapsed:   12.0s\n",
      "[Parallel(n_jobs=4)]: Done  11 tasks      | elapsed:   12.8s\n",
      "[Parallel(n_jobs=4)]: Done  12 tasks      | elapsed:   13.2s\n",
      "[Parallel(n_jobs=4)]: Done  13 tasks      | elapsed:   14.8s\n",
      "[Parallel(n_jobs=4)]: Done  14 tasks      | elapsed:   14.9s\n",
      "[Parallel(n_jobs=4)]: Done  15 tasks      | elapsed:   15.5s\n",
      "[Parallel(n_jobs=4)]: Done  16 tasks      | elapsed:   15.7s\n",
      "[Parallel(n_jobs=4)]: Done  17 tasks      | elapsed:   17.6s\n",
      "[Parallel(n_jobs=4)]: Done  18 tasks      | elapsed:   17.7s\n",
      "[Parallel(n_jobs=4)]: Done  19 tasks      | elapsed:   18.4s\n",
      "[Parallel(n_jobs=4)]: Done  20 tasks      | elapsed:   19.3s\n",
      "[Parallel(n_jobs=4)]: Done  21 tasks      | elapsed:   20.4s\n",
      "[Parallel(n_jobs=4)]: Done  22 tasks      | elapsed:   21.4s\n",
      "[Parallel(n_jobs=4)]: Done  23 tasks      | elapsed:   21.6s\n",
      "[Parallel(n_jobs=4)]: Done  24 tasks      | elapsed:   22.8s\n",
      "[Parallel(n_jobs=4)]: Done  25 tasks      | elapsed:   23.3s\n",
      "[Parallel(n_jobs=4)]: Done  26 tasks      | elapsed:   24.2s\n",
      "[Parallel(n_jobs=4)]: Done  27 tasks      | elapsed:   24.7s\n",
      "[Parallel(n_jobs=4)]: Done  28 tasks      | elapsed:   25.9s\n",
      "[Parallel(n_jobs=4)]: Done  29 tasks      | elapsed:   26.6s\n",
      "[Parallel(n_jobs=4)]: Done  30 tasks      | elapsed:   27.6s\n",
      "[Parallel(n_jobs=4)]: Done  31 tasks      | elapsed:   28.1s\n",
      "[Parallel(n_jobs=4)]: Done  32 tasks      | elapsed:   28.6s\n",
      "[Parallel(n_jobs=4)]: Done  33 tasks      | elapsed:   29.7s\n",
      "[Parallel(n_jobs=4)]: Done  34 tasks      | elapsed:   31.0s\n",
      "[Parallel(n_jobs=4)]: Done  35 tasks      | elapsed:   31.7s\n",
      "[Parallel(n_jobs=4)]: Done  36 tasks      | elapsed:   32.4s\n",
      "[Parallel(n_jobs=4)]: Done  37 tasks      | elapsed:   33.6s\n",
      "[Parallel(n_jobs=4)]: Done  38 tasks      | elapsed:   34.2s\n",
      "[Parallel(n_jobs=4)]: Done  39 tasks      | elapsed:   34.9s\n",
      "[Parallel(n_jobs=4)]: Done  40 tasks      | elapsed:   36.0s\n",
      "[Parallel(n_jobs=4)]: Done  41 tasks      | elapsed:   36.8s\n",
      "[Parallel(n_jobs=4)]: Done  42 tasks      | elapsed:   37.5s\n",
      "[Parallel(n_jobs=4)]: Done  43 tasks      | elapsed:   37.6s\n",
      "[Parallel(n_jobs=4)]: Done  44 tasks      | elapsed:   38.6s\n",
      "[Parallel(n_jobs=4)]: Done  45 tasks      | elapsed:   40.4s\n",
      "[Parallel(n_jobs=4)]: Done  46 tasks      | elapsed:   40.8s\n",
      "[Parallel(n_jobs=4)]: Done  47 tasks      | elapsed:   41.2s\n",
      "[Parallel(n_jobs=4)]: Done  48 tasks      | elapsed:   42.3s\n",
      "[Parallel(n_jobs=4)]: Done  49 tasks      | elapsed:   43.5s\n",
      "[Parallel(n_jobs=4)]: Done  50 tasks      | elapsed:   43.6s\n",
      "[Parallel(n_jobs=4)]: Done  51 tasks      | elapsed:   45.0s\n",
      "[Parallel(n_jobs=4)]: Done  52 tasks      | elapsed:   45.9s\n",
      "[Parallel(n_jobs=4)]: Done  53 tasks      | elapsed:   46.7s\n",
      "[Parallel(n_jobs=4)]: Done  54 tasks      | elapsed:   46.7s\n",
      "[Parallel(n_jobs=4)]: Done  55 tasks      | elapsed:   48.3s\n",
      "[Parallel(n_jobs=4)]: Done  56 tasks      | elapsed:   49.2s\n",
      "[Parallel(n_jobs=4)]: Done  57 tasks      | elapsed:   49.5s\n",
      "[Parallel(n_jobs=4)]: Done  58 tasks      | elapsed:   50.5s\n",
      "[Parallel(n_jobs=4)]: Done  59 tasks      | elapsed:   51.1s\n",
      "[Parallel(n_jobs=4)]: Done  60 tasks      | elapsed:   51.9s\n",
      "[Parallel(n_jobs=4)]: Done  61 tasks      | elapsed:   52.2s\n",
      "[Parallel(n_jobs=4)]: Done  62 tasks      | elapsed:   52.9s\n",
      "[Parallel(n_jobs=4)]: Done  63 tasks      | elapsed:   54.1s\n",
      "[Parallel(n_jobs=4)]: Done  64 tasks      | elapsed:   55.4s\n",
      "[Parallel(n_jobs=4)]: Done  65 tasks      | elapsed:   55.9s\n",
      "[Parallel(n_jobs=4)]: Done  66 tasks      | elapsed:   56.0s\n",
      "[Parallel(n_jobs=4)]: Done  67 tasks      | elapsed:   57.4s\n",
      "[Parallel(n_jobs=4)]: Done  68 tasks      | elapsed:   57.7s\n",
      "[Parallel(n_jobs=4)]: Done  69 tasks      | elapsed:   59.3s\n",
      "[Parallel(n_jobs=4)]: Done  70 tasks      | elapsed:   59.3s\n",
      "[Parallel(n_jobs=4)]: Done  71 tasks      | elapsed:  1.0min\n",
      "[Parallel(n_jobs=4)]: Done  72 tasks      | elapsed:  1.0min\n",
      "[Parallel(n_jobs=4)]: Done  73 tasks      | elapsed:  1.0min\n",
      "[Parallel(n_jobs=4)]: Done  74 tasks      | elapsed:  1.0min\n",
      "[Parallel(n_jobs=4)]: Done  75 tasks      | elapsed:  1.1min\n",
      "[Parallel(n_jobs=4)]: Done  76 tasks      | elapsed:  1.1min\n",
      "[Parallel(n_jobs=4)]: Done  77 tasks      | elapsed:  1.1min\n",
      "[Parallel(n_jobs=4)]: Done  78 tasks      | elapsed:  1.1min\n",
      "[Parallel(n_jobs=4)]: Done  79 tasks      | elapsed:  1.1min\n",
      "[Parallel(n_jobs=4)]: Done  80 tasks      | elapsed:  1.1min\n",
      "[Parallel(n_jobs=4)]: Done  81 tasks      | elapsed:  1.1min\n",
      "[Parallel(n_jobs=4)]: Done  82 tasks      | elapsed:  1.1min\n",
      "[Parallel(n_jobs=4)]: Done  83 tasks      | elapsed:  1.2min\n",
      "[Parallel(n_jobs=4)]: Done  84 tasks      | elapsed:  1.2min\n",
      "[Parallel(n_jobs=4)]: Done  85 tasks      | elapsed:  1.2min\n",
      "[Parallel(n_jobs=4)]: Done  86 tasks      | elapsed:  1.2min\n",
      "[Parallel(n_jobs=4)]: Done  87 tasks      | elapsed:  1.2min\n",
      "[Parallel(n_jobs=4)]: Done  88 tasks      | elapsed:  1.2min\n",
      "[Parallel(n_jobs=4)]: Done  89 tasks      | elapsed:  1.2min\n",
      "[Parallel(n_jobs=4)]: Done  90 tasks      | elapsed:  1.3min\n",
      "[Parallel(n_jobs=4)]: Done  91 tasks      | elapsed:  1.3min\n",
      "[Parallel(n_jobs=4)]: Done  92 tasks      | elapsed:  1.3min\n",
      "[Parallel(n_jobs=4)]: Done  93 tasks      | elapsed:  1.3min\n",
      "[Parallel(n_jobs=4)]: Done  94 tasks      | elapsed:  1.3min\n",
      "[Parallel(n_jobs=4)]: Done  95 tasks      | elapsed:  1.3min\n",
      "[Parallel(n_jobs=4)]: Done  96 tasks      | elapsed:  1.4min\n",
      "[Parallel(n_jobs=4)]: Done  97 tasks      | elapsed:  1.4min\n",
      "[Parallel(n_jobs=4)]: Done  98 tasks      | elapsed:  1.4min\n",
      "[Parallel(n_jobs=4)]: Done  99 tasks      | elapsed:  1.4min\n",
      "[Parallel(n_jobs=4)]: Done 100 tasks      | elapsed:  1.4min\n",
      "[Parallel(n_jobs=4)]: Done 101 tasks      | elapsed:  1.4min\n",
      "[Parallel(n_jobs=4)]: Done 102 tasks      | elapsed:  1.4min\n",
      "[Parallel(n_jobs=4)]: Done 104 out of 109 | elapsed:  1.4min remaining:    4.2s\n",
      "[Parallel(n_jobs=4)]: Done 106 out of 109 | elapsed:  1.5min remaining:    2.6s\n",
      "[Parallel(n_jobs=4)]: Done 109 out of 109 | elapsed:  1.5min finished\n"
     ]
    }
   ],
   "source": [
    "if __name__ == '__main__':\n",
    "    m = Parallel(n_jobs=num_cores, verbose=len(f), temp_folder='./tmp/')(\n",
    "        delayed(process_directory)(i, j) for j, i in enumerate(f) if i is not None)"
   ]
  },
  {
   "cell_type": "code",
   "execution_count": 6,
   "id": "heard-labor",
   "metadata": {},
   "outputs": [],
   "source": [
    "    object_mfcc_to_json(m)"
   ]
  },
  {
   "cell_type": "code",
   "execution_count": 7,
   "id": "77eebcd9",
   "metadata": {},
   "outputs": [
    {
     "data": {
      "text/plain": [
       "17669"
      ]
     },
     "execution_count": 7,
     "metadata": {},
     "output_type": "execute_result"
    }
   ],
   "source": [
    "len(data['labels'])"
   ]
  }
 ],
 "metadata": {
  "kernelspec": {
   "display_name": "Python 3",
   "language": "python",
   "name": "python3"
  },
  "language_info": {
   "codemirror_mode": {
    "name": "ipython",
    "version": 3
   },
   "file_extension": ".py",
   "mimetype": "text/x-python",
   "name": "python",
   "nbconvert_exporter": "python",
   "pygments_lexer": "ipython3",
   "version": "3.8.5"
  }
 },
 "nbformat": 4,
 "nbformat_minor": 5
}
