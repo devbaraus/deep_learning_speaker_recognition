{
 "cells": [
  {
   "cell_type": "code",
   "execution_count": 1,
   "id": "vietnamese-rental",
   "metadata": {},
   "outputs": [],
   "source": [
    "from os import walk\n",
    "from joblib import Parallel, delayed\n",
    "import librosa\n",
    "import python_speech_features\n",
    "import numpy as np\n",
    "import multiprocessing\n",
    "import json\n",
    "from deep_audio import Directory, Audio, JSON"
   ]
  },
  {
   "cell_type": "code",
   "execution_count": 2,
   "id": "unknown-template",
   "metadata": {},
   "outputs": [],
   "source": [
    "num_cores = multiprocessing.cpu_count()\n",
    "\n",
    "sampling_rate = 24000\n",
    "\n",
    "library = 'psf' # librosa, psf\n",
    "\n",
    "path = f'audios/{sampling_rate}'\n",
    "\n",
    "f = Directory.filenames(path)\n",
    "\n",
    "data = {\n",
    "    \"mapping\": [],\n",
    "    \"mfcc\": [],\n",
    "    \"labels\": []\n",
    "}"
   ]
  },
  {
   "cell_type": "code",
   "execution_count": 6,
   "id": "disturbed-greeting",
   "metadata": {},
   "outputs": [],
   "source": [
    "def process_directory(dir, index):\n",
    "    signal, sr = Audio.read(f'{path}/{dir}', sr=sampling_rate, normalize=True)\n",
    "\n",
    "    signal = np.array(signal)\n",
    "\n",
    "    signal = signal[:len(signal) - len(signal) % (sr * 5)]\n",
    "\n",
    "    segments = len(signal) // (sr * 5)\n",
    "\n",
    "    m = {\n",
    "        \"mfcc\": [],\n",
    "        \"labels\": [index] * segments\n",
    "    }\n",
    "\n",
    "    for i in range(segments):\n",
    "        start_sample = sr * i * 5\n",
    "        finish_sample = start_sample + (sr * 5)\n",
    "\n",
    "        sample = signal[start_sample:finish_sample]\n",
    "\n",
    "        # sample = Audio.normalize(sample)\n",
    "\n",
    "        # mfcc = Audio.mfcc(sample, rate=sr)\n",
    "\n",
    "        n_mfcc = 13\n",
    "        n_mels = 40\n",
    "        n_fft = 512 \n",
    "        hop_length = 160\n",
    "        fmin = 0\n",
    "        fmax = None\n",
    "\n",
    "        if library == 'librosa':\n",
    "            mfcc = librosa.feature.mfcc(y=sample, sr=sr, n_fft=n_fft,\n",
    "                                        n_mfcc=n_mfcc, n_mels=n_mels,\n",
    "                                        hop_length=hop_length,\n",
    "                                        fmin=fmin, fmax=fmax, htk=False)\n",
    "        elif library == 'psf':\n",
    "            mfcc = python_speech_features.mfcc(signal=sample, samplerate=sr, winlen=n_fft / sr, winstep=hop_length / sr,\n",
    "                                            numcep=n_mfcc, nfilt=n_mels, nfft=n_fft, lowfreq=fmin, highfreq=fmax,\n",
    "                                            preemph=0.0, ceplifter=0, appendEnergy=False)\n",
    "\n",
    "        # mfcc = librosa.feature.mfcc(sample, sr=sr, n_mfcc=13, hop_length=512, n_fft=2048, lifter=22)\n",
    "\n",
    "        # mfcc = mfcc.T\n",
    "\n",
    "        m['mfcc'].append(mfcc.tolist())\n",
    "\n",
    "    print(f'{dir} -> segments: {segments}')\n",
    "    return m"
   ]
  },
  {
   "cell_type": "code",
   "execution_count": 7,
   "id": "parliamentary-picnic",
   "metadata": {},
   "outputs": [],
   "source": [
    "def object_mfcc_to_json(m):\n",
    "    data['mapping'] = [file.replace('.wav', '') for file in f]\n",
    "\n",
    "    for i in m:\n",
    "        data['mfcc'].extend(i['mfcc'])\n",
    "        data['labels'].extend(i['labels'])\n",
    "\n",
    "    JSON.create_json_file(f'processed/mfcc/{library}/mfcc_{sampling_rate}.json', data)\n"
   ]
  },
  {
   "cell_type": "code",
   "execution_count": 8,
   "id": "coral-myrtle",
   "metadata": {},
   "outputs": [
    {
     "output_type": "stream",
     "name": "stderr",
     "text": [
      "[Parallel(n_jobs=8)]: Using backend LokyBackend with 8 concurrent workers.\n",
      "[Parallel(n_jobs=8)]: Done   1 tasks      | elapsed:   34.3s\n",
      "[Parallel(n_jobs=8)]: Done   2 tasks      | elapsed:   39.7s\n",
      "[Parallel(n_jobs=8)]: Done   3 tasks      | elapsed:   40.6s\n",
      "[Parallel(n_jobs=8)]: Done   4 tasks      | elapsed:   42.7s\n",
      "[Parallel(n_jobs=8)]: Done   5 tasks      | elapsed:   43.5s\n",
      "[Parallel(n_jobs=8)]: Done   6 tasks      | elapsed:   46.2s\n",
      "[Parallel(n_jobs=8)]: Done   7 tasks      | elapsed:   48.3s\n",
      "[Parallel(n_jobs=8)]: Done   8 tasks      | elapsed:   50.2s\n",
      "[Parallel(n_jobs=8)]: Done   9 tasks      | elapsed:   56.1s\n",
      "[Parallel(n_jobs=8)]: Done  10 tasks      | elapsed:   57.6s\n",
      "[Parallel(n_jobs=8)]: Done  11 tasks      | elapsed:  1.0min\n",
      "[Parallel(n_jobs=8)]: Done  12 tasks      | elapsed:  1.1min\n",
      "[Parallel(n_jobs=8)]: Done  13 tasks      | elapsed:  1.2min\n",
      "[Parallel(n_jobs=8)]: Done  14 tasks      | elapsed:  1.2min\n",
      "[Parallel(n_jobs=8)]: Done  15 tasks      | elapsed:  1.2min\n",
      "[Parallel(n_jobs=8)]: Done  16 tasks      | elapsed:  1.3min\n",
      "[Parallel(n_jobs=8)]: Done  17 tasks      | elapsed:  1.3min\n",
      "[Parallel(n_jobs=8)]: Done  18 tasks      | elapsed:  1.3min\n",
      "[Parallel(n_jobs=8)]: Done  19 tasks      | elapsed:  1.4min\n",
      "[Parallel(n_jobs=8)]: Done  20 tasks      | elapsed:  1.7min\n",
      "[Parallel(n_jobs=8)]: Done  21 tasks      | elapsed:  1.7min\n",
      "[Parallel(n_jobs=8)]: Done  22 tasks      | elapsed:  1.7min\n",
      "[Parallel(n_jobs=8)]: Done  23 tasks      | elapsed:  1.7min\n",
      "[Parallel(n_jobs=8)]: Done  24 tasks      | elapsed:  1.7min\n",
      "[Parallel(n_jobs=8)]: Done  25 tasks      | elapsed:  1.8min\n",
      "[Parallel(n_jobs=8)]: Done  26 tasks      | elapsed:  1.8min\n",
      "[Parallel(n_jobs=8)]: Done  28 out of  41 | elapsed:  1.9min remaining:   51.8s\n",
      "[Parallel(n_jobs=8)]: Done  30 out of  41 | elapsed:  2.0min remaining:   43.4s\n",
      "[Parallel(n_jobs=8)]: Done  32 out of  41 | elapsed:  2.2min remaining:   37.8s\n",
      "[Parallel(n_jobs=8)]: Done  34 out of  41 | elapsed:  2.3min remaining:   27.8s\n",
      "[Parallel(n_jobs=8)]: Done  36 out of  41 | elapsed:  2.3min remaining:   18.9s\n",
      "[Parallel(n_jobs=8)]: Done  38 out of  41 | elapsed:  2.3min remaining:   11.0s\n",
      "[Parallel(n_jobs=8)]: Done  41 out of  41 | elapsed:  2.5min finished\n"
     ]
    }
   ],
   "source": [
    "if __name__ == '__main__':\n",
    "    m = Parallel(n_jobs=num_cores, verbose=len(f), temp_folder='./tmp/')(\n",
    "        delayed(process_directory)(i, j) for j, i in enumerate(f) if j <= 40)"
   ]
  },
  {
   "cell_type": "code",
   "execution_count": 9,
   "id": "heard-labor",
   "metadata": {},
   "outputs": [],
   "source": [
    "    object_mfcc_to_json(m)"
   ]
  },
  {
   "cell_type": "code",
   "execution_count": 10,
   "id": "77eebcd9",
   "metadata": {},
   "outputs": [
    {
     "output_type": "execute_result",
     "data": {
      "text/plain": [
       "6572"
      ]
     },
     "metadata": {},
     "execution_count": 10
    }
   ],
   "source": [
    "len(data['labels'])"
   ]
  },
  {
   "cell_type": "code",
   "execution_count": 7,
   "id": "28f68af2",
   "metadata": {
    "pycharm": {
     "name": "#%%\n"
    }
   },
   "outputs": [],
   "source": []
  }
 ],
 "metadata": {
  "kernelspec": {
   "name": "python394jvsc74a57bd09fef416d5513c3ffa11f276184ad65b02b4ff4ed5eb630d2d43d165fda0f2272",
   "display_name": "Python 3.9.4 64-bit ('venv')"
  },
  "language_info": {
   "codemirror_mode": {
    "name": "ipython",
    "version": 3
   },
   "file_extension": ".py",
   "mimetype": "text/x-python",
   "name": "python",
   "nbconvert_exporter": "python",
   "pygments_lexer": "ipython3",
   "version": "3.9.4"
  },
  "metadata": {
   "interpreter": {
    "hash": "63fd5069d213b44bf678585dea6b12cceca9941eaf7f819626cde1f2670de90d"
   }
  }
 },
 "nbformat": 4,
 "nbformat_minor": 5
}