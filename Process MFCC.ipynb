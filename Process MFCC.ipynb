{
 "cells": [
  {
   "cell_type": "code",
   "execution_count": 1,
   "id": "vietnamese-rental",
   "metadata": {},
   "outputs": [],
   "source": [
    "from os import walk\n",
    "from joblib import Parallel, delayed\n",
    "import librosa\n",
    "import numpy as np\n",
    "import multiprocessing\n",
    "import json\n",
    "from deep_audio import Directory, Audio, JSON"
   ]
  },
  {
   "cell_type": "code",
   "execution_count": 2,
   "id": "unknown-template",
   "metadata": {},
   "outputs": [],
   "source": [
    "num_cores = multiprocessing.cpu_count()\n",
    "\n",
    "sampling_rate = 24000\n",
    "\n",
    "path = f'audios/{sampling_rate}'\n",
    "\n",
    "f = Directory.filenames(path)\n",
    "\n",
    "data = {\n",
    "    \"mapping\": [],\n",
    "    \"mfcc\": [],\n",
    "    \"labels\": []\n",
    "}"
   ]
  },
  {
   "cell_type": "code",
   "execution_count": 3,
   "id": "disturbed-greeting",
   "metadata": {},
   "outputs": [],
   "source": [
    "def process_directory(dir, index):\n",
    "    signal, sr = Audio.read(f'{path}/{dir}', sr=sampling_rate, normalize=True)\n",
    "\n",
    "    signal = np.array(signal)\n",
    "\n",
    "    signal = signal[:len(signal) - len(signal) % (sr * 5)]\n",
    "\n",
    "    segments = len(signal) // (sr * 5)\n",
    "\n",
    "    m = {\n",
    "        \"mfcc\": [],\n",
    "        \"labels\": [index] * segments\n",
    "    }\n",
    "\n",
    "    for i in range(segments):\n",
    "        start_sample = sr * i * 5\n",
    "        finish_sample = start_sample + (sr * 5)\n",
    "\n",
    "        sample = signal[start_sample:finish_sample]\n",
    "\n",
    "        # sample = Audio.normalize(sample)\n",
    "\n",
    "        # mfcc = Audio.mfcc(sample, rate=sr)\n",
    "        mfcc = librosa.feature.mfcc(sample, sr=sr, n_mfcc=13, hop_length=512, n_fft=2048, lifter=22)\n",
    "\n",
    "        # mfcc = mfcc.T\n",
    "\n",
    "        m['mfcc'].append(mfcc.tolist())\n",
    "\n",
    "    print(f'{dir} -> segments: {segments}')\n",
    "    return m"
   ]
  },
  {
   "cell_type": "code",
   "execution_count": 4,
   "id": "parliamentary-picnic",
   "metadata": {},
   "outputs": [],
   "source": [
    "def object_mfcc_to_json(m):\n",
    "    data['mapping'] = [file.replace('.wav', '') for file in f]\n",
    "\n",
    "    for i in m:\n",
    "        data['mfcc'].extend(i['mfcc'])\n",
    "        data['labels'].extend(i['labels'])\n",
    "\n",
    "    JSON.create_json_file(f'processed/mfcc/mfcc_{sampling_rate}.json', data)\n"
   ]
  },
  {
   "cell_type": "code",
   "execution_count": 5,
   "id": "coral-myrtle",
   "metadata": {},
   "outputs": [
    {
     "name": "stderr",
     "output_type": "stream",
     "text": [
      "[Parallel(n_jobs=8)]: Using backend LokyBackend with 8 concurrent workers.\n",
      "[Parallel(n_jobs=8)]: Done   1 tasks      | elapsed:   11.5s\n",
      "[Parallel(n_jobs=8)]: Done   2 tasks      | elapsed:   13.2s\n",
      "[Parallel(n_jobs=8)]: Done   3 tasks      | elapsed:   13.3s\n",
      "[Parallel(n_jobs=8)]: Done   4 tasks      | elapsed:   13.4s\n",
      "[Parallel(n_jobs=8)]: Done   5 tasks      | elapsed:   13.7s\n",
      "[Parallel(n_jobs=8)]: Done   6 tasks      | elapsed:   13.8s\n",
      "[Parallel(n_jobs=8)]: Done   7 tasks      | elapsed:   14.1s\n",
      "[Parallel(n_jobs=8)]: Done   8 tasks      | elapsed:   16.6s\n",
      "[Parallel(n_jobs=8)]: Done   9 tasks      | elapsed:   18.0s\n",
      "[Parallel(n_jobs=8)]: Done  10 tasks      | elapsed:   19.3s\n",
      "[Parallel(n_jobs=8)]: Done  11 tasks      | elapsed:   19.7s\n",
      "[Parallel(n_jobs=8)]: Done  12 tasks      | elapsed:   21.8s\n",
      "[Parallel(n_jobs=8)]: Done  13 tasks      | elapsed:   21.9s\n",
      "[Parallel(n_jobs=8)]: Done  14 tasks      | elapsed:   22.5s\n",
      "[Parallel(n_jobs=8)]: Done  15 tasks      | elapsed:   23.0s\n",
      "[Parallel(n_jobs=8)]: Done  16 tasks      | elapsed:   23.5s\n",
      "[Parallel(n_jobs=8)]: Done  17 tasks      | elapsed:   26.3s\n",
      "[Parallel(n_jobs=8)]: Done  18 tasks      | elapsed:   26.5s\n",
      "[Parallel(n_jobs=8)]: Done  19 tasks      | elapsed:   27.2s\n",
      "[Parallel(n_jobs=8)]: Done  20 tasks      | elapsed:   29.4s\n",
      "[Parallel(n_jobs=8)]: Done  21 tasks      | elapsed:   30.1s\n",
      "[Parallel(n_jobs=8)]: Done  22 tasks      | elapsed:   30.5s\n",
      "[Parallel(n_jobs=8)]: Done  23 tasks      | elapsed:   30.5s\n",
      "[Parallel(n_jobs=8)]: Done  24 tasks      | elapsed:   30.6s\n",
      "[Parallel(n_jobs=8)]: Done  25 tasks      | elapsed:   32.7s\n",
      "[Parallel(n_jobs=8)]: Done  26 tasks      | elapsed:   33.0s\n",
      "[Parallel(n_jobs=8)]: Done  28 out of  41 | elapsed:   36.0s remaining:   16.7s\n",
      "[Parallel(n_jobs=8)]: Done  30 out of  41 | elapsed:   37.1s remaining:   13.5s\n",
      "[Parallel(n_jobs=8)]: Done  32 out of  41 | elapsed:   38.0s remaining:   10.6s\n",
      "[Parallel(n_jobs=8)]: Done  34 out of  41 | elapsed:   41.1s remaining:    8.4s\n",
      "[Parallel(n_jobs=8)]: Done  36 out of  41 | elapsed:   43.8s remaining:    6.0s\n",
      "[Parallel(n_jobs=8)]: Done  38 out of  41 | elapsed:   44.7s remaining:    3.4s\n",
      "[Parallel(n_jobs=8)]: Done  41 out of  41 | elapsed:   45.0s finished\n"
     ]
    }
   ],
   "source": [
    "if __name__ == '__main__':\n",
    "    m = Parallel(n_jobs=num_cores, verbose=len(f), temp_folder='./tmp/')(\n",
    "        delayed(process_directory)(i, j) for j, i in enumerate(f) if i is not None)"
   ]
  },
  {
   "cell_type": "code",
   "execution_count": 6,
   "id": "heard-labor",
   "metadata": {},
   "outputs": [],
   "source": [
    "    object_mfcc_to_json(m)"
   ]
  },
  {
   "cell_type": "code",
   "execution_count": 7,
   "id": "77eebcd9",
   "metadata": {},
   "outputs": [
    {
     "data": {
      "text/plain": "6572"
     },
     "execution_count": 7,
     "metadata": {},
     "output_type": "execute_result"
    }
   ],
   "source": [
    "len(data['labels'])"
   ]
  },
  {
   "cell_type": "code",
   "execution_count": 7,
   "id": "28f68af2",
   "metadata": {
    "pycharm": {
     "name": "#%%\n"
    }
   },
   "outputs": [],
   "source": []
  }
 ],
 "metadata": {
  "kernelspec": {
   "display_name": "Python 3",
   "language": "python",
   "name": "python3"
  },
  "language_info": {
   "codemirror_mode": {
    "name": "ipython",
    "version": 3
   },
   "file_extension": ".py",
   "mimetype": "text/x-python",
   "name": "python",
   "nbconvert_exporter": "python",
   "pygments_lexer": "ipython3",
   "version": "3.9.4"
  }
 },
 "nbformat": 4,
 "nbformat_minor": 5
}