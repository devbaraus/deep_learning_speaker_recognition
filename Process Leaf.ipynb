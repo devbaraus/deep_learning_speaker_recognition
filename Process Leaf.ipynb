{
 "cells": [
  {
   "cell_type": "code",
   "execution_count": 1,
   "id": "vietnamese-rental",
   "metadata": {},
   "outputs": [
    {
     "name": "stderr",
     "output_type": "stream",
     "text": [
      "WARNING:absl:Lingvo does not support eager execution yet. Please disable eager execution with tf.compat.v1.disable_eager_execution() or proceed at your own risk.\n"
     ]
    }
   ],
   "source": [
    "from os import walk\n",
    "from joblib import Parallel, delayed\n",
    "import numpy as np\n",
    "import multiprocessing\n",
    "import tensorflow as tf\n",
    "import leaf_audio.frontend as frontend\n",
    "import json\n",
    "from deep_audio import Directory, JSON, Audio, NumpyEncoder"
   ]
  },
  {
   "cell_type": "code",
   "execution_count": 2,
   "id": "unknown-template",
   "metadata": {},
   "outputs": [],
   "source": [
    "num_cores = multiprocessing.cpu_count()\n",
    "\n",
    "sampling_rate = 24000\n",
    "\n",
    "path = f'audios/{sampling_rate}'\n",
    "\n",
    "f = Directory.filenames(path)"
   ]
  },
  {
   "cell_type": "code",
   "execution_count": 3,
   "id": "disturbed-greeting",
   "metadata": {},
   "outputs": [],
   "source": [
    "def process_directory(dir, index, library):\n",
    "    signal, rate = Audio.read(f'{path}/{dir}', sr=sampling_rate, normalize=True)\n",
    "\n",
    "    signal = np.array(signal)\n",
    "\n",
    "    signal = signal[:len(signal) - len(signal) % (rate * 5)]\n",
    "\n",
    "    segments = len(signal) // (rate * 5)\n",
    "\n",
    "    m = {\n",
    "        \"mfcc\": [],\n",
    "        \"labels\": [index] * segments\n",
    "    }\n",
    "\n",
    "    for i in range(segments):\n",
    "        start_sample = rate * i * 5\n",
    "        finish_sample = start_sample + (rate * 5)\n",
    "\n",
    "        sample = signal[start_sample:finish_sample]\n",
    "        sample = sample[tf.newaxis, :]\n",
    "                \n",
    "        if library == 'leaf':\n",
    "            leaf = frontend.Leaf()\n",
    "            mfcc = leaf(sample)\n",
    "        elif library == 'melbanks':\n",
    "            melfbanks = frontend.MelFilterbanks()\n",
    "            mfcc = melfbanks(sample)\n",
    "        elif library == 'tfbanks':\n",
    "            tfbanks = frontend.TimeDomainFilterbanks()\n",
    "            mfcc = tfbanks(sample)\n",
    "        elif library == 'sincnet':\n",
    "            sincnet = frontend.SincNet()\n",
    "            mfcc = sincnet(sample)\n",
    "        elif library == 'sincnetplus':\n",
    "            sincnet_plus = frontend.SincNetPlus()\n",
    "            mfcc = sincnet_plus(sample)\n",
    "        \n",
    "        mfcc = np.array(mfcc).T\n",
    "\n",
    "        m['mfcc'].append(mfcc.tolist())\n",
    "\n",
    "    print(f'{dir} -> segments: {segments}')\n",
    "    return m"
   ]
  },
  {
   "cell_type": "code",
   "execution_count": 4,
   "id": "parliamentary-picnic",
   "metadata": {},
   "outputs": [],
   "source": [
    "def object_mfcc_to_json(m, library):\n",
    "    data = {\n",
    "        \"mapping\": [],\n",
    "        \"mfcc\": [],\n",
    "        \"labels\": []\n",
    "    }\n",
    "\n",
    "    data['mapping'] = [file.replace('.wav', '') for i, file in enumerate(f)]\n",
    "\n",
    "    for i in m:\n",
    "        data['mfcc'].extend(i['mfcc'])\n",
    "        data['labels'].extend(i['labels'])\n",
    "\n",
    "    print('Writing')\n",
    "\n",
    "    JSON.create_json_file(f'processed/leaf/{library}_{sampling_rate}.json', data, cls=NumpyEncoder)\n",
    "\n",
    "    del data"
   ]
  },
  {
   "cell_type": "code",
   "execution_count": null,
   "id": "coral-myrtle",
   "metadata": {},
   "outputs": [
    {
     "name": "stdout",
     "output_type": "stream",
     "text": [
      "[Parallel(n_jobs=4)]: Using backend LokyBackend with 4 concurrent workers.\n",
      "[Parallel(n_jobs=4)]: Done   1 tasks      | elapsed:  3.2min\n",
      "[Parallel(n_jobs=4)]: Done   2 out of   4 | elapsed:  3.9min remaining:  3.9min\n",
      "[Parallel(n_jobs=4)]: Done   4 out of   4 | elapsed:  4.0min remaining:    0.0s\n",
      "[Parallel(n_jobs=4)]: Done   4 out of   4 | elapsed:  4.0min finished\n",
      "Writing\n",
      "[Parallel(n_jobs=4)]: Using backend LokyBackend with 4 concurrent workers.\n",
      "[Parallel(n_jobs=4)]: Done   1 tasks      | elapsed:   26.2s\n",
      "[Parallel(n_jobs=4)]: Done   2 out of   4 | elapsed:   32.1s remaining:   32.1s\n",
      "[Parallel(n_jobs=4)]: Done   4 out of   4 | elapsed:   41.2s remaining:    0.0s\n",
      "[Parallel(n_jobs=4)]: Done   4 out of   4 | elapsed:   41.2s finished\n",
      "Writing\n",
      "[Parallel(n_jobs=4)]: Using backend LokyBackend with 4 concurrent workers.\n"
     ]
    }
   ],
   "source": [
    "if __name__ == '__main__':\n",
    "#     for library in ['leaf', 'melbanks', 'tfbanks', 'sincnet', 'sincnetplus']:\n",
    "#         m = []\n",
    "#         for j, i in enumerate(f):\n",
    "#             if j  < 5:\n",
    "#                 m.append(process_directory(i, j, library))\n",
    "    \n",
    "#         object_mfcc_to_json(m, library)\n",
    "\n",
    "    for library in ['leaf', 'melbanks', 'tfbanks', 'sincnet', 'sincnetplus']:\n",
    "        m = Parallel(n_jobs=num_cores // 2, verbose=len(f))(\n",
    "            delayed(process_directory)(i, j, library) for j, i in enumerate(f) if j < 4)\n",
    "        object_mfcc_to_json(m, library)"
   ]
  },
  {
   "cell_type": "code",
   "execution_count": null,
   "id": "734c05df",
   "metadata": {},
   "outputs": [],
   "source": []
  },
  {
   "cell_type": "code",
   "execution_count": null,
   "id": "70ebd3f8",
   "metadata": {},
   "outputs": [],
   "source": []
  }
 ],
 "metadata": {
  "kernelspec": {
   "display_name": "Python 3",
   "language": "python",
   "name": "python3"
  },
  "language_info": {
   "codemirror_mode": {
    "name": "ipython",
    "version": 3
   },
   "file_extension": ".py",
   "mimetype": "text/x-python",
   "name": "python",
   "nbconvert_exporter": "python",
   "pygments_lexer": "ipython3",
   "version": "3.8.5"
  },
  "metadata": {
   "interpreter": {
    "hash": "63fd5069d213b44bf678585dea6b12cceca9941eaf7f819626cde1f2670de90d"
   }
  }
 },
 "nbformat": 4,
 "nbformat_minor": 5
}
