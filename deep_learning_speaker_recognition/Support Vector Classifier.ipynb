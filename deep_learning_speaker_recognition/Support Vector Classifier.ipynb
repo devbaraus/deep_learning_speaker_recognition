{
 "cells": [
  {
   "cell_type": "code",
   "execution_count": 1,
   "id": "anticipated-trick",
   "metadata": {},
   "outputs": [],
   "source": [
    "# %% Package imports\n",
    "from sklearn import svm\n",
    "from sklearn.ensemble import RandomForestClassifier\n",
    "from sklearn.metrics import classification_report, f1_score, accuracy_score\n",
    "from sklearn.utils import shuffle\n",
    "from sklearn.model_selection import train_test_split, GridSearchCV, KFold, cross_val_score\n",
    "from deep_audio import Audio, Visualization, Directory, Model, JSON\n",
    "import numpy as np\n",
    "from joblib import Parallel, delayed\n",
    "import multiprocessing\n",
    "import joblib"
   ]
  },
  {
   "cell_type": "code",
   "execution_count": 2,
   "id": "narrow-gardening",
   "metadata": {},
   "outputs": [],
   "source": [
    "kfold_split = False"
   ]
  },
  {
   "cell_type": "code",
   "execution_count": 3,
   "id": "specified-despite",
   "metadata": {},
   "outputs": [],
   "source": [
    "# %% Load dataset\n",
    "sampling_rate = 22050\n",
    "\n",
    "method_algo = 'data'\n",
    "\n",
    "x, y, mapping = Directory.load_json_data(f'processed/{method_algo}/{method_algo}_{sampling_rate}.json',\n",
    "                                         inputs_fieldname=method_algo)"
   ]
  },
  {
   "cell_type": "code",
   "execution_count": 4,
   "id": "aggressive-computer",
   "metadata": {},
   "outputs": [
    {
     "data": {
      "text/plain": [
       "5"
      ]
     },
     "execution_count": 4,
     "metadata": {},
     "output_type": "execute_result"
    }
   ],
   "source": [
    "# SPLIT 5 FOLDS\n",
    "# mfcc -> rbf, ovo, 10\n",
    "# lpc -> poly, ovo, 1000\n",
    "kernel = 'rbf'\n",
    "decision_function_shape = 'ovo'\n",
    "random_state = 42\n",
    "\n",
    "x_holder = []\n",
    "\n",
    "for row in x:\n",
    "    x_holder.append(row.flatten())\n",
    "\n",
    "x = np.array(x_holder)\n",
    "\n",
    "n = len(x)\n",
    "\n",
    "x = x[:n]\n",
    "y = y[:n]\n",
    "\n",
    "kf = KFold(n_splits=5, shuffle=True, random_state=random_state)\n",
    "kf.get_n_splits(x)"
   ]
  },
  {
   "cell_type": "code",
   "execution_count": 5,
   "id": "registered-queue",
   "metadata": {},
   "outputs": [],
   "source": [
    "def process_fold(train_index, test_index):\n",
    "    x_train, x_val = x[train_index], x[test_index]\n",
    "    y_train, y_val = y[train_index], y[test_index]\n",
    "    \n",
    "    model = svm.SVC(C=10, kernel=kernel, decision_function_shape=decision_function_shape)\n",
    "        \n",
    "    model.fit(x_train, y_train)\n",
    "    \n",
    "    # TESTA ACCURÁCIAS\n",
    "    \n",
    "    score_test = model.score(x_val, y_val)\n",
    "\n",
    "    score_train = model.score(x_train, y_train)\n",
    "\n",
    "    y_hat = model.predict(x_val)\n",
    "    \n",
    "    # SALVA MODELO\n",
    "    filename = ''\n",
    "    \n",
    "    if kfold_split:\n",
    "        filename = f'models/svm/5fold/{method_algo}_{sampling_rate}_{kernel}_{decision_function_shape}/acc{score_test}_seed{random_state}.sav'\n",
    "    else:\n",
    "        filename = f'models/svm/{method_algo}_{sampling_rate}_{kernel}_{decision_function_shape}/acc{score_test}_seed{random_state}.sav'\n",
    "    \n",
    "    Directory.create_directory(filename, file=True)\n",
    "    \n",
    "    joblib.dump(model, filename)\n",
    "    \n",
    "    # SALVA ACURÁCIAS E PARAMETROS\n",
    "    \n",
    "    return {\n",
    "        'method': 'Support Vector Machines',\n",
    "        'seed': random_state,\n",
    "        'feature_method': method_algo,\n",
    "        'sample_rate': sampling_rate,\n",
    "        'train_test': [len(x_train), len(x_val)],\n",
    "        'score_train': score_train,\n",
    "        'score_test': score_test,\n",
    "        'f1_micro': f1_score(y_hat, y_val, average='micro'),\n",
    "        'f1_macro': f1_score(y_hat, y_val, average='macro'),\n",
    "        'model_file': f'acc{score_test}_seed{random_state}.sav',\n",
    "        'params': model.get_params()\n",
    "    }"
   ]
  },
  {
   "cell_type": "code",
   "execution_count": 6,
   "id": "attached-congo",
   "metadata": {},
   "outputs": [],
   "source": [
    "num_cores = multiprocessing.cpu_count()\n",
    "\n",
    "if kfold_split:\n",
    "    dump_info = Parallel(n_jobs=num_cores, verbose=3)(\n",
    "        delayed(process_fold)(train_index, test_index) for train_index, test_index in kf.split(x))\n",
    "    JSON.create_json_file(f'models/svm/5fold/{method_algo}_{sampling_rate}_{kernel}_{decision_function_shape}/info.json', dump_info)\n",
    "else:\n",
    "    for train_index, test_index in kf.split(x):\n",
    "        dump_info = process_fold(train_index, test_index)\n",
    "        break\n",
    "    JSON.create_json_file(f'models/svm/{method_algo}_{sampling_rate}_{kernel}_{decision_function_shape}/info.json', dump_info)"
   ]
  },
  {
   "cell_type": "code",
   "execution_count": 7,
   "id": "expected-banner",
   "metadata": {},
   "outputs": [
    {
     "data": {
      "text/plain": [
       "{'method': 'Support Vector Machines',\n",
       " 'seed': 42,\n",
       " 'feature_method': 'data',\n",
       " 'sample_rate': 22050,\n",
       " 'train_test': [14169, 3543],\n",
       " 'score_train': 0.9999294233890889,\n",
       " 'score_test': 0.9489133502681344,\n",
       " 'f1_micro': 0.9489133502681344,\n",
       " 'f1_macro': 0.9452871929969652,\n",
       " 'model_file': 'acc0.9489133502681344_seed42.sav',\n",
       " 'params': {'C': 10,\n",
       "  'break_ties': False,\n",
       "  'cache_size': 200,\n",
       "  'class_weight': None,\n",
       "  'coef0': 0.0,\n",
       "  'decision_function_shape': 'ovo',\n",
       "  'degree': 3,\n",
       "  'gamma': 'scale',\n",
       "  'kernel': 'rbf',\n",
       "  'max_iter': -1,\n",
       "  'probability': False,\n",
       "  'random_state': None,\n",
       "  'shrinking': True,\n",
       "  'tol': 0.001,\n",
       "  'verbose': False}}"
      ]
     },
     "execution_count": 7,
     "metadata": {},
     "output_type": "execute_result"
    }
   ],
   "source": [
    "    dump_info"
   ]
  },
  {
   "cell_type": "code",
   "execution_count": null,
   "id": "likely-devices",
   "metadata": {},
   "outputs": [],
   "source": []
  }
 ],
 "metadata": {
  "kernelspec": {
   "display_name": "Python 3",
   "language": "python",
   "name": "python3"
  },
  "language_info": {
   "codemirror_mode": {
    "name": "ipython",
    "version": 3
   },
   "file_extension": ".py",
   "mimetype": "text/x-python",
   "name": "python",
   "nbconvert_exporter": "python",
   "pygments_lexer": "ipython3",
   "version": "3.8.5"
  }
 },
 "nbformat": 4,
 "nbformat_minor": 5
}
