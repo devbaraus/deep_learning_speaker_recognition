{
 "cells": [
  {
   "cell_type": "code",
   "execution_count": 1,
   "id": "canadian-finland",
   "metadata": {},
   "outputs": [],
   "source": [
    "from os import walk\n",
    "from joblib import Parallel, delayed\n",
    "import numpy as np\n",
    "import multiprocessing\n",
    "import soundfile as sf\n",
    "import librosa\n",
    "import scipy\n",
    "from deep_audio import Directory, Audio\n"
   ]
  },
  {
   "cell_type": "code",
   "execution_count": 2,
   "id": "competent-yukon",
   "metadata": {},
   "outputs": [],
   "source": [
    "num_cores = multiprocessing.cpu_count()\n",
    "\n",
    "f = {}\n",
    "\n",
    "mypath = './archive/VCTK-Corpus/VCTK-Corpus/wav48'\n",
    "destpath = f'audios'\n",
    "\n",
    "# Directory.create_directory(f'{destpath}/treino')\n",
    "# Directory.create_directory(f'{destpath}/inferencia')\n",
    "\n",
    "for (_, dirnames, _) in walk(mypath):\n",
    "    for dir in dirnames:\n",
    "        f[dir] = []\n",
    "        for (_, _, filenames) in walk(mypath + '/' + dir):\n",
    "            f[dir].extend(filenames)\n",
    "            break\n",
    "    break\n"
   ]
  },
  {
   "cell_type": "code",
   "execution_count": 3,
   "id": "outside-productivity",
   "metadata": {},
   "outputs": [],
   "source": [
    "def process_directory(dir, n_rate):\n",
    "    signal = []\n",
    "\n",
    "    for j, audioname in enumerate(f[dir]):\n",
    "        # if j < 10:\n",
    "        holder_signal, sr = Audio.read(f'{mypath}/{dir}/{audioname}', sr=n_rate)\n",
    "\n",
    "        intervals = librosa.effects.split(holder_signal, top_db=20)\n",
    "\n",
    "        audio_temp = holder_signal[intervals[0][0]:intervals[-1][-1]]\n",
    "\n",
    "        signal.extend(audio_temp)\n",
    "\n",
    "    signal = np.array(signal)\n",
    "\n",
    "    Audio.write(f'{destpath}/{n_rate}/{dir}.wav', signal, n_rate)"
   ]
  },
  {
   "cell_type": "code",
   "execution_count": null,
   "id": "ordered-organizer",
   "metadata": {},
   "outputs": [
    {
     "name": "stdout",
     "output_type": "stream",
     "text": [
      "[Parallel(n_jobs=8)]: Using backend LokyBackend with 8 concurrent workers.\n",
      "[Parallel(n_jobs=8)]: Done   1 tasks      | elapsed:  2.7min\n",
      "[Parallel(n_jobs=8)]: Done   2 tasks      | elapsed:  3.2min\n",
      "[Parallel(n_jobs=8)]: Done   3 tasks      | elapsed:  3.3min\n",
      "[Parallel(n_jobs=8)]: Done   4 tasks      | elapsed:  3.5min\n",
      "[Parallel(n_jobs=8)]: Done   5 tasks      | elapsed:  3.8min\n",
      "[Parallel(n_jobs=8)]: Done   6 tasks      | elapsed:  3.9min\n",
      "[Parallel(n_jobs=8)]: Done   7 tasks      | elapsed:  4.1min\n",
      "[Parallel(n_jobs=8)]: Done   8 tasks      | elapsed:  4.1min\n",
      "[Parallel(n_jobs=8)]: Done   9 tasks      | elapsed:  6.3min\n",
      "[Parallel(n_jobs=8)]: Done  10 tasks      | elapsed:  6.3min\n",
      "[Parallel(n_jobs=8)]: Done  11 tasks      | elapsed:  6.7min\n",
      "[Parallel(n_jobs=8)]: Done  12 tasks      | elapsed:  7.0min\n",
      "[Parallel(n_jobs=8)]: Done  13 tasks      | elapsed:  7.0min\n",
      "[Parallel(n_jobs=8)]: Done  14 tasks      | elapsed:  7.4min\n",
      "[Parallel(n_jobs=8)]: Done  15 tasks      | elapsed:  7.6min\n",
      "[Parallel(n_jobs=8)]: Done  16 tasks      | elapsed:  8.0min\n",
      "[Parallel(n_jobs=8)]: Done  17 tasks      | elapsed: 10.0min\n",
      "[Parallel(n_jobs=8)]: Done  18 tasks      | elapsed: 10.0min\n",
      "[Parallel(n_jobs=8)]: Done  19 tasks      | elapsed: 10.1min\n",
      "[Parallel(n_jobs=8)]: Done  20 tasks      | elapsed: 10.3min\n",
      "[Parallel(n_jobs=8)]: Done  21 tasks      | elapsed: 10.7min\n",
      "[Parallel(n_jobs=8)]: Done  22 tasks      | elapsed: 10.9min\n",
      "[Parallel(n_jobs=8)]: Done  23 tasks      | elapsed: 11.3min\n",
      "[Parallel(n_jobs=8)]: Done  24 tasks      | elapsed: 11.4min\n",
      "[Parallel(n_jobs=8)]: Done  25 tasks      | elapsed: 13.1min\n",
      "[Parallel(n_jobs=8)]: Done  26 tasks      | elapsed: 13.3min\n",
      "[Parallel(n_jobs=8)]: Done  27 tasks      | elapsed: 13.4min\n",
      "[Parallel(n_jobs=8)]: Done  28 tasks      | elapsed: 14.0min\n",
      "[Parallel(n_jobs=8)]: Done  29 tasks      | elapsed: 14.2min\n",
      "[Parallel(n_jobs=8)]: Done  30 tasks      | elapsed: 14.4min\n",
      "[Parallel(n_jobs=8)]: Done  31 tasks      | elapsed: 14.8min\n",
      "[Parallel(n_jobs=8)]: Done  32 tasks      | elapsed: 15.0min\n",
      "[Parallel(n_jobs=8)]: Done  33 tasks      | elapsed: 16.4min\n",
      "[Parallel(n_jobs=8)]: Done  34 tasks      | elapsed: 16.8min\n",
      "[Parallel(n_jobs=8)]: Done  35 tasks      | elapsed: 17.1min\n",
      "[Parallel(n_jobs=8)]: Done  36 tasks      | elapsed: 17.3min\n",
      "[Parallel(n_jobs=8)]: Done  37 tasks      | elapsed: 17.7min\n",
      "[Parallel(n_jobs=8)]: Done  38 tasks      | elapsed: 18.3min\n",
      "[Parallel(n_jobs=8)]: Done  39 tasks      | elapsed: 18.5min\n",
      "[Parallel(n_jobs=8)]: Done  40 tasks      | elapsed: 18.8min\n",
      "[Parallel(n_jobs=8)]: Done  41 tasks      | elapsed: 19.5min\n"
     ]
    }
   ],
   "source": [
    "if __name__ == '__main__':\n",
    "    # for j, i in enumerate(list(f.keys())):\n",
    "    #     if j < 1:\n",
    "    #         process_directory(i, j)\n",
    "    m = Parallel(n_jobs=num_cores, verbose=len(f.keys()))(\n",
    "        delayed(process_directory)(i, rate) for j, i in enumerate(list(f.keys())) for rate in [24000])"
   ]
  },
  {
   "cell_type": "code",
   "execution_count": null,
   "id": "sublime-wallet",
   "metadata": {},
   "outputs": [],
   "source": []
  }
 ],
 "metadata": {
  "kernelspec": {
   "display_name": "Python 3",
   "language": "python",
   "name": "python3"
  },
  "language_info": {
   "codemirror_mode": {
    "name": "ipython",
    "version": 3
   },
   "file_extension": ".py",
   "mimetype": "text/x-python",
   "name": "python",
   "nbconvert_exporter": "python",
   "pygments_lexer": "ipython3",
   "version": "3.9.4"
  }
 },
 "nbformat": 4,
 "nbformat_minor": 5
}
